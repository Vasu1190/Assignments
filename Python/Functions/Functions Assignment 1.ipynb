{
 "cells": [
  {
   "cell_type": "markdown",
   "id": "743a8ba7",
   "metadata": {},
   "source": [
    "Q.1) Create a function and list out the items in the list"
   ]
  },
  {
   "cell_type": "code",
   "execution_count": 1,
   "id": "9675f0d4",
   "metadata": {},
   "outputs": [
    {
     "name": "stdout",
     "output_type": "stream",
     "text": [
      "Sub-fields in AI are:\n",
      "Machine Learning\n",
      "Neural Networks\n",
      "Vision\n",
      "Robotics\n",
      "Speech Processing\n",
      "Natural Language Processing\n"
     ]
    }
   ],
   "source": [
    "def Subfields(*argv):\n",
    "    for aisubfields in argv:\n",
    "        print(aisubfields)\n",
    "Subfields('Sub-fields in AI are:','Machine Learning', 'Neural Networks', 'Vision', 'Robotics','Speech Processing', 'Natural Language Processing')"
   ]
  },
  {
   "cell_type": "markdown",
   "id": "4ebbdc99",
   "metadata": {},
   "source": [
    "                          or"
   ]
  },
  {
   "cell_type": "code",
   "execution_count": 2,
   "id": "876303ae",
   "metadata": {},
   "outputs": [],
   "source": [
    "def Subfields():\n",
    "    print('Sub-fields in AI are:','\\nMachine Learning', '\\nNeural Networks', '\\nVision', '\\nRobotics','\\nSpeech Processing', '\\nNatural Language Processing')"
   ]
  },
  {
   "cell_type": "code",
   "execution_count": 3,
   "id": "d7a006a8",
   "metadata": {},
   "outputs": [
    {
     "name": "stdout",
     "output_type": "stream",
     "text": [
      "Sub-fields in AI are: \n",
      "Machine Learning \n",
      "Neural Networks \n",
      "Vision \n",
      "Robotics \n",
      "Speech Processing \n",
      "Natural Language Processing\n"
     ]
    }
   ],
   "source": [
    "Subfields()"
   ]
  },
  {
   "cell_type": "markdown",
   "id": "378bd2ca",
   "metadata": {},
   "source": [
    "Q.2)Create a function that checks whether the given number is Odd or Even"
   ]
  },
  {
   "cell_type": "code",
   "execution_count": 5,
   "id": "7999699a",
   "metadata": {},
   "outputs": [],
   "source": [
    "def evenOdd():\n",
    "    num=int(input('Enter a number:'))    \n",
    "    if (num % 2 == 0):\n",
    "        print(num,\"is Even number\")\n",
    "        message= num,\"is Even number\"\n",
    "    else:\n",
    "        print(num,\"is Odd number\")\n",
    "        message= num,\"is Odd number\"\n",
    "        return message"
   ]
  },
  {
   "cell_type": "code",
   "execution_count": 6,
   "id": "e1cb7377",
   "metadata": {},
   "outputs": [
    {
     "name": "stdout",
     "output_type": "stream",
     "text": [
      "Enter a number:52452\n",
      "52452 is Even number\n"
     ]
    }
   ],
   "source": [
    "evenOdd()"
   ]
  },
  {
   "cell_type": "markdown",
   "id": "a77b6f13",
   "metadata": {},
   "source": [
    "Q.3)Create a function that tells elegibility of marriage for male and female according to their age limit like 21 for male and 18 for female"
   ]
  },
  {
   "cell_type": "code",
   "execution_count": 7,
   "id": "0889a7f1",
   "metadata": {},
   "outputs": [],
   "source": [
    "def eligible():\n",
    "    gen=input('Your Gender(Male, Female):')\n",
    "    age=int(input('Your Age:'))\n",
    "    a='Male'\n",
    "    b='Female'\n",
    "    if(gen==a):\n",
    "        if(age>=21):\n",
    "            print('ELIGIBLE')\n",
    "        else:\n",
    "            print('NOT ELIGIBLE')\n",
    "    elif(gen==b):\n",
    "        if(age>=18):\n",
    "            print('ELIGIBLE')\n",
    "        else:\n",
    "            print('NOT ELIGIBLE')\n",
    "    else:\n",
    "        print(\"Invalid Input\")"
   ]
  },
  {
   "cell_type": "code",
   "execution_count": 8,
   "id": "dc9f074a",
   "metadata": {},
   "outputs": [
    {
     "name": "stdout",
     "output_type": "stream",
     "text": [
      "Your Gender(Male, Female):Male\n",
      "Your Age:20\n",
      "NOT ELIGIBLE\n"
     ]
    }
   ],
   "source": [
    "eligible()"
   ]
  },
  {
   "cell_type": "markdown",
   "id": "071b783b",
   "metadata": {},
   "source": [
    "Q.4)Calculate the percentage of 10th mark"
   ]
  },
  {
   "cell_type": "code",
   "execution_count": 9,
   "id": "aa0216f0",
   "metadata": {},
   "outputs": [],
   "source": [
    "def percentage():\n",
    "    s1=int(input('Subject1='))\n",
    "    s2=int(input('Subject2='))\n",
    "    s3=int(input('Subject3='))\n",
    "    s4=int(input('Subject4='))\n",
    "    s5=int(input('Subject5='))\n",
    "    print()\n",
    "    Tot=s1+s2+s3+s4+s5\n",
    "    print('Total:',Tot )\n",
    "    percent=(Tot/500)*100\n",
    "    print(\"Percentage:\", percent)\n",
    "    return percent"
   ]
  },
  {
   "cell_type": "code",
   "execution_count": 10,
   "id": "0cff0544",
   "metadata": {},
   "outputs": [
    {
     "name": "stdout",
     "output_type": "stream",
     "text": [
      "Subject1=98\n",
      "Subject2=87\n",
      "Subject3=95\n",
      "Subject4=95\n",
      "Subject5=93\n",
      "\n",
      "Total: 468\n",
      "Percentage: 93.60000000000001\n"
     ]
    },
    {
     "data": {
      "text/plain": [
       "93.60000000000001"
      ]
     },
     "execution_count": 10,
     "metadata": {},
     "output_type": "execute_result"
    }
   ],
   "source": [
    "percentage()"
   ]
  },
  {
   "cell_type": "markdown",
   "id": "cc6fb4d1",
   "metadata": {},
   "source": [
    "Q.5)Print area and perimeter of triangle using functions"
   ]
  },
  {
   "cell_type": "code",
   "execution_count": 11,
   "id": "dabe6382",
   "metadata": {},
   "outputs": [],
   "source": [
    "def triangle():\n",
    "    h=int(input('Height:'))\n",
    "    b=int(input('Breadth:'))\n",
    "    Af=(h*b)/2\n",
    "    print('Area formula: (Height*Breadth)/2''\\nArea of Triangle:', Af)\n",
    "    h1=int(input('Height1:'))\n",
    "    h2=int(input('Height2:'))\n",
    "    b1=int(input('Breadth:'))\n",
    "    p=h1+h2+b1\n",
    "    print('Perimeter formula:Height1+Height2+Breadth','\\nPerimeter of Triangle:',p)"
   ]
  },
  {
   "cell_type": "code",
   "execution_count": 12,
   "id": "2636ee10",
   "metadata": {},
   "outputs": [
    {
     "name": "stdout",
     "output_type": "stream",
     "text": [
      "Height:32\n",
      "Breadth:34\n",
      "Area formula: (Height*Breadth)/2\n",
      "Area of Triangle: 544.0\n",
      "Height1:2\n",
      "Height2:4\n",
      "Breadth:4\n",
      "Perimeter formula:Height1+Height2+Breadth \n",
      "Perimeter of Triangle: 10\n"
     ]
    }
   ],
   "source": [
    "triangle()"
   ]
  }
 ],
 "metadata": {
  "kernelspec": {
   "display_name": "Python 3 (ipykernel)",
   "language": "python",
   "name": "python3"
  },
  "language_info": {
   "codemirror_mode": {
    "name": "ipython",
    "version": 3
   },
   "file_extension": ".py",
   "mimetype": "text/x-python",
   "name": "python",
   "nbconvert_exporter": "python",
   "pygments_lexer": "ipython3",
   "version": "3.11.4"
  }
 },
 "nbformat": 4,
 "nbformat_minor": 5
}
