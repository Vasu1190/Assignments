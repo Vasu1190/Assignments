{
 "cells": [
  {
   "cell_type": "markdown",
   "id": "84776d91",
   "metadata": {},
   "source": [
    "Q.1) print 0 to 20 by using range"
   ]
  },
  {
   "cell_type": "code",
   "execution_count": 2,
   "id": "13155154",
   "metadata": {},
   "outputs": [
    {
     "name": "stdout",
     "output_type": "stream",
     "text": [
      "0\n",
      "1\n",
      "2\n",
      "3\n",
      "4\n",
      "5\n",
      "6\n",
      "7\n",
      "8\n",
      "9\n",
      "10\n",
      "11\n",
      "12\n",
      "13\n",
      "14\n",
      "15\n",
      "16\n",
      "17\n",
      "18\n",
      "19\n"
     ]
    }
   ],
   "source": [
    "for num in range(0,20):\n",
    "    print(num)"
   ]
  },
  {
   "cell_type": "markdown",
   "id": "25a4a2f3",
   "metadata": {},
   "source": [
    "Q.2)print range 10 to 20"
   ]
  },
  {
   "cell_type": "code",
   "execution_count": 6,
   "id": "0c46ad84",
   "metadata": {},
   "outputs": [
    {
     "name": "stdout",
     "output_type": "stream",
     "text": [
      "10 11 12 13 14 15 16 17 18 19 "
     ]
    }
   ],
   "source": [
    "for num in range(10,20):\n",
    "    print(num,end=' ')"
   ]
  },
  {
   "cell_type": "markdown",
   "id": "f12c978d",
   "metadata": {},
   "source": [
    "Q.3)Print number of items in the list by using 'len'"
   ]
  },
  {
   "cell_type": "code",
   "execution_count": 39,
   "id": "6ad369f2",
   "metadata": {
    "scrolled": true
   },
   "outputs": [
    {
     "name": "stdout",
     "output_type": "stream",
     "text": [
      "[10, 20, 14, 55, 43, 87, 76] \n",
      "Number of item in the List2:\n",
      "7\n"
     ]
    }
   ],
   "source": [
    "lists=[[10,20,14,55,43,87,76]]\n",
    "for x in lists:\n",
    "    print(x,end=' ')\n",
    "print('\\nNumber of item in the List2:')\n",
    "print(len(x))\n",
    "    "
   ]
  },
  {
   "cell_type": "markdown",
   "id": "68bd8137",
   "metadata": {},
   "source": [
    "Q.4) Print Artificial Intelligence in horizontal & vetical scape"
   ]
  },
  {
   "cell_type": "code",
   "execution_count": 30,
   "id": "39e817b7",
   "metadata": {},
   "outputs": [
    {
     "name": "stdout",
     "output_type": "stream",
     "text": [
      "Artificial Intelligence\n",
      "A\n",
      "r\n",
      "t\n",
      "i\n",
      "f\n",
      "i\n",
      "c\n",
      "i\n",
      "a\n",
      "l\n",
      " \n",
      "I\n",
      "n\n",
      "t\n",
      "e\n",
      "l\n",
      "l\n",
      "i\n",
      "g\n",
      "e\n",
      "n\n",
      "c\n",
      "e\n"
     ]
    }
   ],
   "source": [
    "print('Artificial Intelligence')\n",
    "x='Artificial Intelligence'\n",
    "for word in x:\n",
    "    print(word)"
   ]
  },
  {
   "cell_type": "markdown",
   "id": "dbcaaf95",
   "metadata": {},
   "source": [
    "Q.5)\n",
    "-Your Name-\n",
    "-Your Age-\n",
    "-Your Profession-"
   ]
  },
  {
   "cell_type": "code",
   "execution_count": 7,
   "id": "692bbeb8",
   "metadata": {},
   "outputs": [
    {
     "name": "stdout",
     "output_type": "stream",
     "text": [
      "-Your Name-\n",
      "-Your Age-\n",
      "-Your Profession-\n"
     ]
    }
   ],
   "source": [
    "print('-Your Name-\\n-Your Age-\\n-Your Profession-')"
   ]
  },
  {
   "cell_type": "markdown",
   "id": "b0610fc1",
   "metadata": {},
   "source": [
    "Q.6)Print (1, 'Welcome', 2, 'Hope')"
   ]
  },
  {
   "cell_type": "code",
   "execution_count": 8,
   "id": "59952fc1",
   "metadata": {},
   "outputs": [
    {
     "name": "stdout",
     "output_type": "stream",
     "text": [
      "(1, 'Welcome', 2, 'Hope')\n"
     ]
    }
   ],
   "source": [
    "Tuple1 = (1, 'Welcome', 2, 'Hope')\n",
    "print(Tuple1)"
   ]
  },
  {
   "cell_type": "markdown",
   "id": "26c21992",
   "metadata": {},
   "source": [
    "Q.7) Print ((0, 1, 2, 3), ('python', 'HOPE'))"
   ]
  },
  {
   "cell_type": "code",
   "execution_count": 29,
   "id": "29c43cb7",
   "metadata": {},
   "outputs": [
    {
     "name": "stdout",
     "output_type": "stream",
     "text": [
      "((0, 1, 2, 3), ('python', 'HOPE'))\n"
     ]
    }
   ],
   "source": [
    "Tuple1=((0, 1, 2,3))\n",
    "Tuple2=('python', 'HOPE')\n",
    "Tuple3 =Tuple1,Tuple2\n",
    "print(Tuple3)"
   ]
  },
  {
   "cell_type": "markdown",
   "id": "b4272f86",
   "metadata": {},
   "source": [
    "q.8)Print the Odd Numbers in the list---20,10,16,19,25,1,276,188"
   ]
  },
  {
   "cell_type": "code",
   "execution_count": 42,
   "id": "ff2d365b",
   "metadata": {},
   "outputs": [
    {
     "name": "stdout",
     "output_type": "stream",
     "text": [
      "(20, 10, 16, 19, 25, 1, 276, 188)\n",
      "19 is Odd\n",
      "25 is Odd\n",
      "1 is Odd\n"
     ]
    }
   ],
   "source": [
    "Tuple1=((20,10,16,19,25,1,276,188))\n",
    "print(Tuple1)\n",
    "lists=[20,10,16,19,25,1,276,188]\n",
    "for x in lists:\n",
    "    if(x%2==1):\n",
    "        print(x,'is Odd')"
   ]
  },
  {
   "cell_type": "markdown",
   "id": "6c8ce5f4",
   "metadata": {},
   "source": [
    "Q.9)Print the Even numbers in the list---20,10,16,19,25,1,276,188"
   ]
  },
  {
   "cell_type": "code",
   "execution_count": 43,
   "id": "8dfccaef",
   "metadata": {},
   "outputs": [
    {
     "name": "stdout",
     "output_type": "stream",
     "text": [
      "(20, 10, 16, 19, 25, 1, 276, 188)\n",
      "20 is Even\n",
      "10 is Even\n",
      "16 is Even\n",
      "276 is Even\n",
      "188 is Even\n"
     ]
    }
   ],
   "source": [
    "Tuple1=((20,10,16,19,25,1,276,188))\n",
    "print(Tuple1)\n",
    "lists=[20,10,16,19,25,1,276,188]\n",
    "for x in lists:\n",
    "    if(x%2==0):\n",
    "        print(x,'is Even')"
   ]
  }
 ],
 "metadata": {
  "kernelspec": {
   "display_name": "Python 3 (ipykernel)",
   "language": "python",
   "name": "python3"
  },
  "language_info": {
   "codemirror_mode": {
    "name": "ipython",
    "version": 3
   },
   "file_extension": ".py",
   "mimetype": "text/x-python",
   "name": "python",
   "nbconvert_exporter": "python",
   "pygments_lexer": "ipython3",
   "version": "3.11.4"
  }
 },
 "nbformat": 4,
 "nbformat_minor": 5
}
