{
 "cells": [
  {
   "cell_type": "markdown",
   "id": "cbf2b682",
   "metadata": {},
   "source": [
    "Q.1)print 'Correct' if i == 10"
   ]
  },
  {
   "cell_type": "code",
   "execution_count": 4,
   "id": "7b8eef68",
   "metadata": {},
   "outputs": [
    {
     "name": "stdout",
     "output_type": "stream",
     "text": [
      "Value:10\n",
      "Correct\n"
     ]
    }
   ],
   "source": [
    "i=int(input('Value:'))\n",
    "if(i==10):\n",
    "    print('Correct')\n",
    "else:\n",
    "    print('Wrong')"
   ]
  },
  {
   "cell_type": "markdown",
   "id": "e23c94a3",
   "metadata": {},
   "source": [
    "\n",
    "Q.2)Check the password, using if and else\n"
   ]
  },
  {
   "cell_type": "code",
   "execution_count": 5,
   "id": "36e75e27",
   "metadata": {},
   "outputs": [
    {
     "name": "stdout",
     "output_type": "stream",
     "text": [
      "Enter the password:HOPE@123\n",
      "Correct\n"
     ]
    }
   ],
   "source": [
    "pw=(input('Enter the password:'))\n",
    "if(pw=='HOPE@123'):\n",
    "    print('Correct')\n",
    "else:\n",
    "    print('Wrong')"
   ]
  },
  {
   "cell_type": "markdown",
   "id": "d8e2a74e",
   "metadata": {},
   "source": [
    "Q.3)Catagory the people by their age like children, adult, citizen, senior citizen...\n"
   ]
  },
  {
   "cell_type": "code",
   "execution_count": 6,
   "id": "f91e044d",
   "metadata": {},
   "outputs": [
    {
     "name": "stdout",
     "output_type": "stream",
     "text": [
      "Age:20\n",
      "Adult\n"
     ]
    }
   ],
   "source": [
    "age=int(input('Age:'))\n",
    "if(age<18):\n",
    "    print('Children')\n",
    "elif('age<35'):\n",
    "    print('Adult')\n",
    "elif('age<59'):\n",
    "    print('Citizen')\n",
    "else:\n",
    "    print('Senior citizen')"
   ]
  },
  {
   "cell_type": "markdown",
   "id": "15f8220e",
   "metadata": {},
   "source": [
    "Q.4)Find whether given number is positive or negative"
   ]
  },
  {
   "cell_type": "code",
   "execution_count": 8,
   "id": "b89131da",
   "metadata": {},
   "outputs": [
    {
     "name": "stdout",
     "output_type": "stream",
     "text": [
      "Enter any number:1\n",
      "Number is positive\n"
     ]
    }
   ],
   "source": [
    "num=int(input('Enter any number:'))\n",
    "if(num<0):\n",
    "    print('Number is negative')\n",
    "else:\n",
    "    print('Number is positive')"
   ]
  },
  {
   "cell_type": "markdown",
   "id": "228ae15b",
   "metadata": {},
   "source": [
    "Q.5)Check whether the given number is divisible by 5\n"
   ]
  },
  {
   "cell_type": "code",
   "execution_count": 9,
   "id": "99aeba19",
   "metadata": {},
   "outputs": [
    {
     "name": "stdout",
     "output_type": "stream",
     "text": [
      "Enter a number to check:22\n",
      "Number is not divisible by 5\n"
     ]
    }
   ],
   "source": [
    "num=int(input('Enter a number to check:'))\n",
    "if(num%5==0):\n",
    "    print('Number is divisible by 5')\n",
    "else:\n",
    "    print('Number is not divisible by 5')"
   ]
  }
 ],
 "metadata": {
  "kernelspec": {
   "display_name": "Python 3 (ipykernel)",
   "language": "python",
   "name": "python3"
  },
  "language_info": {
   "codemirror_mode": {
    "name": "ipython",
    "version": 3
   },
   "file_extension": ".py",
   "mimetype": "text/x-python",
   "name": "python",
   "nbconvert_exporter": "python",
   "pygments_lexer": "ipython3",
   "version": "3.11.4"
  }
 },
 "nbformat": 4,
 "nbformat_minor": 5
}
