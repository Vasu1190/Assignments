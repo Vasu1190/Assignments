{
 "cells": [
  {
   "cell_type": "markdown",
   "id": "f06f38c1",
   "metadata": {},
   "source": [
    "Q.1) Print Statement - HOPE AI"
   ]
  },
  {
   "cell_type": "code",
   "execution_count": 1,
   "id": "b9c70de8",
   "metadata": {},
   "outputs": [
    {
     "name": "stdout",
     "output_type": "stream",
     "text": [
      "HOPE AI\n"
     ]
    }
   ],
   "source": [
    "print('HOPE AI')"
   ]
  },
  {
   "cell_type": "markdown",
   "id": "7b0c26f2",
   "metadata": {},
   "source": [
    "Q.2)Buy input - Enter your institute name : HOPE AI"
   ]
  },
  {
   "cell_type": "code",
   "execution_count": 2,
   "id": "e4ee9999",
   "metadata": {},
   "outputs": [
    {
     "name": "stdout",
     "output_type": "stream",
     "text": [
      "Enter your institute name:HOPE AI\n"
     ]
    }
   ],
   "source": [
    "name=input('Enter your institute name:')"
   ]
  },
  {
   "cell_type": "markdown",
   "id": "552fd576",
   "metadata": {},
   "source": [
    "Q.3)Buy inputs ---\n",
    "Enter your name: Raj---\n",
    "Enter your age: 15---\n",
    "Enter your school name: Guru school----\n",
    "Enter your drgree: B.E CSE"
   ]
  },
  {
   "cell_type": "code",
   "execution_count": 1,
   "id": "d4cdfa0a",
   "metadata": {},
   "outputs": [
    {
     "name": "stdout",
     "output_type": "stream",
     "text": [
      "Enter your name:Raj\n",
      "Enter your age:15\n",
      "Enter your school name:Guru school\n",
      "Enter your degree:B.E CSE\n"
     ]
    }
   ],
   "source": [
    "name=input('Enter your name:')\n",
    "age=input('Enter your age:')\n",
    "schoolname=input('Enter your school name:')\n",
    "degree=input('Enter your degree:')"
   ]
  },
  {
   "cell_type": "markdown",
   "id": "68f46366",
   "metadata": {},
   "source": [
    "Q.4)Addition---a= 43----\n",
    "b= 34---\n",
    "add = 77"
   ]
  },
  {
   "cell_type": "code",
   "execution_count": 2,
   "id": "2c30705e",
   "metadata": {},
   "outputs": [
    {
     "name": "stdout",
     "output_type": "stream",
     "text": [
      "a= 43\n",
      "b= 34\n",
      "Add= 77\n"
     ]
    }
   ],
   "source": [
    "N1=43\n",
    "print('a=',N1)\n",
    "N2=34\n",
    "print('b=',N2)\n",
    "print('Add=',N1+N2)"
   ]
  },
  {
   "cell_type": "markdown",
   "id": "564d5768",
   "metadata": {},
   "source": [
    "Q.5)Subtraction---a= 43---- b= 34--- sub = 9"
   ]
  },
  {
   "cell_type": "code",
   "execution_count": 4,
   "id": "eadd1272",
   "metadata": {},
   "outputs": [
    {
     "name": "stdout",
     "output_type": "stream",
     "text": [
      "a= 43\n",
      "b= 34\n",
      "Sub= 9\n"
     ]
    }
   ],
   "source": [
    "N1=43\n",
    "print('a=',N1)\n",
    "N2=34\n",
    "print('b=',N2)\n",
    "print('Sub=',N1-N2)"
   ]
  },
  {
   "cell_type": "markdown",
   "id": "18b88399",
   "metadata": {},
   "source": [
    "Q.6)Multiplication---a= 63\n",
    "---b= 97---\n",
    "Mul = 6111\n"
   ]
  },
  {
   "cell_type": "code",
   "execution_count": 5,
   "id": "e6798fca",
   "metadata": {},
   "outputs": [
    {
     "name": "stdout",
     "output_type": "stream",
     "text": [
      "a= 63\n",
      "b= 97\n",
      "Mul= 6111\n"
     ]
    }
   ],
   "source": [
    "N1=63\n",
    "print('a=',N1)\n",
    "N2=97\n",
    "print('b=',N2)\n",
    "print('Mul=',N1*N2)"
   ]
  },
  {
   "cell_type": "markdown",
   "id": "9652c7b5",
   "metadata": {},
   "source": [
    "Q.7)Division---\n",
    "a= 76---\n",
    "b= 31---\n",
    "Float Div = 2.4516129032258065"
   ]
  },
  {
   "cell_type": "code",
   "execution_count": 6,
   "id": "405c4a61",
   "metadata": {},
   "outputs": [
    {
     "name": "stdout",
     "output_type": "stream",
     "text": [
      "a= 76\n",
      "b= 31\n",
      "Float Div= 2.4516129032258065\n"
     ]
    }
   ],
   "source": [
    "N1=76\n",
    "print('a=',N1)\n",
    "N2=31\n",
    "print('b=',N2)\n",
    "print('Float Div=',N1/N2)"
   ]
  },
  {
   "cell_type": "markdown",
   "id": "89c03a4d",
   "metadata": {},
   "source": [
    "Q.8)Floor Division--- a= 76--- b= 31--- Floor Div = 2"
   ]
  },
  {
   "cell_type": "code",
   "execution_count": 7,
   "id": "a21c3888",
   "metadata": {},
   "outputs": [
    {
     "name": "stdout",
     "output_type": "stream",
     "text": [
      "a= 76\n",
      "b= 31\n",
      "Floor Div= 2\n"
     ]
    }
   ],
   "source": [
    "N1=76\n",
    "print('a=',N1)\n",
    "N2=31\n",
    "print('b=',N2)\n",
    "print('Floor Div=',N1//N2)"
   ]
  },
  {
   "cell_type": "markdown",
   "id": "177862de",
   "metadata": {},
   "source": [
    "Q.9)Modulo----\n",
    "a= 76---\n",
    "b= 31---\n",
    "Modulo = 14"
   ]
  },
  {
   "cell_type": "code",
   "execution_count": 8,
   "id": "20321c55",
   "metadata": {},
   "outputs": [
    {
     "name": "stdout",
     "output_type": "stream",
     "text": [
      "a= 76\n",
      "b= 31\n",
      "Modulo= 14\n"
     ]
    }
   ],
   "source": [
    "N1=76\n",
    "print('a=',N1)\n",
    "N2=31\n",
    "print('b=',N2)\n",
    "print('Modulo=',N1%N2)"
   ]
  },
  {
   "cell_type": "markdown",
   "id": "b5a6db0c",
   "metadata": {},
   "source": [
    "Q.10)Power---\n",
    "a= 4---\n",
    "b= 4---\n",
    "Power = 256"
   ]
  },
  {
   "cell_type": "code",
   "execution_count": 11,
   "id": "536f7163",
   "metadata": {},
   "outputs": [
    {
     "name": "stdout",
     "output_type": "stream",
     "text": [
      "a= 4\n",
      "b= 4\n",
      "Power= 256\n"
     ]
    }
   ],
   "source": [
    "N1=4\n",
    "print('a=',N1)\n",
    "N2=4\n",
    "print('b=',N2)\n",
    "print('Power=',N1**N2)"
   ]
  }
 ],
 "metadata": {
  "kernelspec": {
   "display_name": "Python 3 (ipykernel)",
   "language": "python",
   "name": "python3"
  },
  "language_info": {
   "codemirror_mode": {
    "name": "ipython",
    "version": 3
   },
   "file_extension": ".py",
   "mimetype": "text/x-python",
   "name": "python",
   "nbconvert_exporter": "python",
   "pygments_lexer": "ipython3",
   "version": "3.11.4"
  }
 },
 "nbformat": 4,
 "nbformat_minor": 5
}
