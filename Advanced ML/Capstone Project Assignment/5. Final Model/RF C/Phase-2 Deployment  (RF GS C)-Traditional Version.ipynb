{
 "cells": [
  {
   "cell_type": "code",
   "execution_count": 1,
   "id": "30edea2b",
   "metadata": {},
   "outputs": [],
   "source": [
    "import numpy as np\n",
    "import matplotlib.pyplot as plt\n",
    "import pandas as pd\n",
    "from sklearn.preprocessing import LabelEncoder"
   ]
  },
  {
   "cell_type": "code",
   "execution_count": 2,
   "id": "e548c2c4",
   "metadata": {},
   "outputs": [],
   "source": [
    "dataset=pd.read_csv('PP_Mtrls_and_their_Mchncl_Prprts.csv')\n",
    "\n",
    "\n",
    "\n",
    "dataset.drop('Material', axis=1, inplace=True)\n",
    "\n",
    "\n",
    "columns_to_drop = ['Sy','mu']\n",
    "dataset = dataset.drop(columns=columns_to_drop)\n",
    "\n",
    "\n",
    "\n",
    "dataset['Use'] = dataset['Use'].astype('object')\n",
    "\n",
    "\n",
    "dataset=pd.get_dummies(dataset,drop_first=True)"
   ]
  },
  {
   "cell_type": "code",
   "execution_count": 3,
   "id": "1ae82323",
   "metadata": {},
   "outputs": [
    {
     "data": {
      "text/html": [
       "<div>\n",
       "<style scoped>\n",
       "    .dataframe tbody tr th:only-of-type {\n",
       "        vertical-align: middle;\n",
       "    }\n",
       "\n",
       "    .dataframe tbody tr th {\n",
       "        vertical-align: top;\n",
       "    }\n",
       "\n",
       "    .dataframe thead th {\n",
       "        text-align: right;\n",
       "    }\n",
       "</style>\n",
       "<table border=\"1\" class=\"dataframe\">\n",
       "  <thead>\n",
       "    <tr style=\"text-align: right;\">\n",
       "      <th></th>\n",
       "      <th>Su</th>\n",
       "      <th>E</th>\n",
       "      <th>G</th>\n",
       "      <th>Ro</th>\n",
       "      <th>Use_True</th>\n",
       "    </tr>\n",
       "  </thead>\n",
       "  <tbody>\n",
       "    <tr>\n",
       "      <th>0</th>\n",
       "      <td>421</td>\n",
       "      <td>207000</td>\n",
       "      <td>79000</td>\n",
       "      <td>7860</td>\n",
       "      <td>1</td>\n",
       "    </tr>\n",
       "    <tr>\n",
       "      <th>1</th>\n",
       "      <td>424</td>\n",
       "      <td>207000</td>\n",
       "      <td>79000</td>\n",
       "      <td>7860</td>\n",
       "      <td>1</td>\n",
       "    </tr>\n",
       "    <tr>\n",
       "      <th>2</th>\n",
       "      <td>386</td>\n",
       "      <td>207000</td>\n",
       "      <td>79000</td>\n",
       "      <td>7860</td>\n",
       "      <td>1</td>\n",
       "    </tr>\n",
       "    <tr>\n",
       "      <th>3</th>\n",
       "      <td>448</td>\n",
       "      <td>207000</td>\n",
       "      <td>79000</td>\n",
       "      <td>7860</td>\n",
       "      <td>1</td>\n",
       "    </tr>\n",
       "    <tr>\n",
       "      <th>4</th>\n",
       "      <td>441</td>\n",
       "      <td>207000</td>\n",
       "      <td>79000</td>\n",
       "      <td>7860</td>\n",
       "      <td>1</td>\n",
       "    </tr>\n",
       "    <tr>\n",
       "      <th>...</th>\n",
       "      <td>...</td>\n",
       "      <td>...</td>\n",
       "      <td>...</td>\n",
       "      <td>...</td>\n",
       "      <td>...</td>\n",
       "    </tr>\n",
       "    <tr>\n",
       "      <th>797</th>\n",
       "      <td>980</td>\n",
       "      <td>206000</td>\n",
       "      <td>80000</td>\n",
       "      <td>7860</td>\n",
       "      <td>0</td>\n",
       "    </tr>\n",
       "    <tr>\n",
       "      <th>798</th>\n",
       "      <td>1100</td>\n",
       "      <td>206000</td>\n",
       "      <td>80000</td>\n",
       "      <td>7860</td>\n",
       "      <td>0</td>\n",
       "    </tr>\n",
       "    <tr>\n",
       "      <th>799</th>\n",
       "      <td>1200</td>\n",
       "      <td>206000</td>\n",
       "      <td>80000</td>\n",
       "      <td>7860</td>\n",
       "      <td>0</td>\n",
       "    </tr>\n",
       "    <tr>\n",
       "      <th>800</th>\n",
       "      <td>1030</td>\n",
       "      <td>206000</td>\n",
       "      <td>80000</td>\n",
       "      <td>7860</td>\n",
       "      <td>0</td>\n",
       "    </tr>\n",
       "    <tr>\n",
       "      <th>801</th>\n",
       "      <td>1226</td>\n",
       "      <td>206000</td>\n",
       "      <td>80000</td>\n",
       "      <td>7860</td>\n",
       "      <td>0</td>\n",
       "    </tr>\n",
       "  </tbody>\n",
       "</table>\n",
       "<p>802 rows × 5 columns</p>\n",
       "</div>"
      ],
      "text/plain": [
       "       Su       E      G    Ro  Use_True\n",
       "0     421  207000  79000  7860         1\n",
       "1     424  207000  79000  7860         1\n",
       "2     386  207000  79000  7860         1\n",
       "3     448  207000  79000  7860         1\n",
       "4     441  207000  79000  7860         1\n",
       "..    ...     ...    ...   ...       ...\n",
       "797   980  206000  80000  7860         0\n",
       "798  1100  206000  80000  7860         0\n",
       "799  1200  206000  80000  7860         0\n",
       "800  1030  206000  80000  7860         0\n",
       "801  1226  206000  80000  7860         0\n",
       "\n",
       "[802 rows x 5 columns]"
      ]
     },
     "execution_count": 3,
     "metadata": {},
     "output_type": "execute_result"
    }
   ],
   "source": [
    "label_encoder = LabelEncoder()\n",
    "\n",
    "# Fit and transform the target column\n",
    "dataset['Use_True'] = label_encoder.fit_transform(dataset['Use_True'])\n",
    "dataset"
   ]
  },
  {
   "cell_type": "code",
   "execution_count": 4,
   "id": "63cdf14a",
   "metadata": {},
   "outputs": [],
   "source": [
    "indep=dataset[['Su','E','G','Ro']]\n",
    "dep=dataset[\"Use_True\"]\n",
    "\n",
    "#split into training set and test\n",
    "from sklearn.model_selection import train_test_split\n",
    "X_train, X_test, y_train, y_test = train_test_split(indep, dep, test_size = 1/3, random_state = 0)"
   ]
  },
  {
   "cell_type": "code",
   "execution_count": 5,
   "id": "bc2bea34",
   "metadata": {},
   "outputs": [],
   "source": [
    "from sklearn.preprocessing import StandardScaler\n",
    "sc = StandardScaler()\n",
    "X_train = sc.fit_transform(X_train)\n",
    "X_test = sc.transform(X_test)"
   ]
  },
  {
   "cell_type": "code",
   "execution_count": 6,
   "id": "e5961616",
   "metadata": {},
   "outputs": [
    {
     "name": "stdout",
     "output_type": "stream",
     "text": [
      "Ultimate Tensile Strength (Su) in MPa:1000\n",
      "Elastic Modulus (E) in MPa:119876\n",
      "Shear Modulus (G) in MPa:67543\n",
      "Density (Ro) in Kg/m3:8912\n"
     ]
    }
   ],
   "source": [
    "su_input=float(input(\"Ultimate Tensile Strength (Su) in MPa:\"))\n",
    "E_input=float(input(\"Elastic Modulus (E) in MPa:\"))\n",
    "g_input=float(input(\"Shear Modulus (G) in MPa:\"))\n",
    "ro_input=float(input(\"Density (Ro) in Kg/m3:\"))"
   ]
  },
  {
   "cell_type": "code",
   "execution_count": 7,
   "id": "8fbe78db",
   "metadata": {},
   "outputs": [
    {
     "name": "stderr",
     "output_type": "stream",
     "text": [
      "/Users/viswanathanmuthu/anaconda3/envs/AIVE_Course/lib/python3.11/site-packages/sklearn/base.py:439: UserWarning: X does not have valid feature names, but StandardScaler was fitted with feature names\n",
      "  warnings.warn(\n"
     ]
    },
    {
     "data": {
      "text/plain": [
       "array([[ 1.01737213, -0.6495612 ,  0.01127766,  1.12379576]])"
      ]
     },
     "execution_count": 7,
     "metadata": {},
     "output_type": "execute_result"
    }
   ],
   "source": [
    "ppinput=sc.transform([[su_input,E_input,g_input,ro_input]])\n",
    "ppinput"
   ]
  },
  {
   "cell_type": "code",
   "execution_count": 8,
   "id": "4af6a1c3",
   "metadata": {},
   "outputs": [
    {
     "name": "stdout",
     "output_type": "stream",
     "text": [
      "Future_Prediction=[False]\n"
     ]
    }
   ],
   "source": [
    "import pickle\n",
    "loaded_model=pickle.load(open(\"finalized_model_Random_Forest.sav\",'rb'))\n",
    "y=loaded_model.predict(ppinput)\n",
    "if (y==0):\n",
    "    print(\"Future_Prediction=[False]\")\n",
    "else:\n",
    "    print('Future_Prediction=[True]')"
   ]
  },
  {
   "cell_type": "code",
   "execution_count": null,
   "id": "9c054cb9",
   "metadata": {},
   "outputs": [],
   "source": []
  },
  {
   "cell_type": "markdown",
   "id": "158ad903",
   "metadata": {},
   "source": [
    "Ultimate Tensile Strength (Su) in MPa:1000\n",
    "Elastic Modulus (E) in MPa:119876\n",
    "Shear Modulus (G) in MPa:67543\n",
    "Density (Ro) in Kg/m3:8912"
   ]
  }
 ],
 "metadata": {
  "kernelspec": {
   "display_name": "Python 3 (ipykernel)",
   "language": "python",
   "name": "python3"
  },
  "language_info": {
   "codemirror_mode": {
    "name": "ipython",
    "version": 3
   },
   "file_extension": ".py",
   "mimetype": "text/x-python",
   "name": "python",
   "nbconvert_exporter": "python",
   "pygments_lexer": "ipython3",
   "version": "3.11.5"
  }
 },
 "nbformat": 4,
 "nbformat_minor": 5
}
