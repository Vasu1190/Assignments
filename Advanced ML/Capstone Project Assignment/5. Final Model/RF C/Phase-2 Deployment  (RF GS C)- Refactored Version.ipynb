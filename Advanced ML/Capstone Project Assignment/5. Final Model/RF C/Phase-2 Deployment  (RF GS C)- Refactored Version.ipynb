{
 "cells": [
  {
   "cell_type": "code",
   "execution_count": 1,
   "id": "ec3941a3",
   "metadata": {},
   "outputs": [],
   "source": [
    "import numpy as np\n",
    "import pandas as pd\n",
    "from sklearn.preprocessing import LabelEncoder\n",
    "from sklearn.preprocessing import StandardScaler\n",
    "import pickle\n",
    "from sklearn.model_selection import train_test_split"
   ]
  },
  {
   "cell_type": "code",
   "execution_count": 2,
   "id": "0c6d0614",
   "metadata": {},
   "outputs": [],
   "source": [
    "from Deployment_Refactored_Version import MaterialClassifier"
   ]
  },
  {
   "cell_type": "code",
   "execution_count": 3,
   "id": "6d71d590",
   "metadata": {
    "scrolled": true
   },
   "outputs": [],
   "source": [
    "classifier = MaterialClassifier()"
   ]
  },
  {
   "cell_type": "code",
   "execution_count": 4,
   "id": "f8550ea1",
   "metadata": {},
   "outputs": [
    {
     "name": "stdout",
     "output_type": "stream",
     "text": [
      "Ultimate Tensile Strength (Su) in MPa:1000\n",
      "Elastic Modulus (E) in MPa:119876\n",
      "Shear Modulus (G) in MPa:67543\n",
      "Density (Ro) in Kg/m3:8912\n"
     ]
    }
   ],
   "source": [
    "# Provide input data\n",
    "su_input = float(input(\"Ultimate Tensile Strength (Su) in MPa:\"))\n",
    "E_input = float(input(\"Elastic Modulus (E) in MPa:\"))\n",
    "g_input = float(input(\"Shear Modulus (G) in MPa:\"))\n",
    "ro_input = float(input(\"Density (Ro) in Kg/m3:\"))"
   ]
  },
  {
   "cell_type": "code",
   "execution_count": 5,
   "id": "b748d112",
   "metadata": {},
   "outputs": [
    {
     "name": "stdout",
     "output_type": "stream",
     "text": [
      "Future Prediction = [False]\n"
     ]
    },
    {
     "name": "stderr",
     "output_type": "stream",
     "text": [
      "/Users/viswanathanmuthu/anaconda3/envs/AIVE_Course/lib/python3.11/site-packages/sklearn/base.py:439: UserWarning: X does not have valid feature names, but StandardScaler was fitted with feature names\n",
      "  warnings.warn(\n"
     ]
    }
   ],
   "source": [
    "input_data = [su_input, E_input, g_input, ro_input]\n",
    "\n",
    "# Use the classifier to make predictions\n",
    "y = classifier.predict(input_data)\n",
    "\n",
    "if y == 0:\n",
    "    print(\"Future Prediction = [False]\")\n",
    "else:\n",
    "    print('Future Prediction = [True]')"
   ]
  },
  {
   "cell_type": "code",
   "execution_count": null,
   "id": "b34b3750",
   "metadata": {},
   "outputs": [],
   "source": []
  },
  {
   "cell_type": "code",
   "execution_count": null,
   "id": "69770509",
   "metadata": {},
   "outputs": [],
   "source": []
  },
  {
   "cell_type": "markdown",
   "id": "6a5d9710",
   "metadata": {},
   "source": [
    "Ultimate Tensile Strength (Su) in MPa:1000\n",
    "Elastic Modulus (E) in MPa:119876\n",
    "Shear Modulus (G) in MPa:67543\n",
    "Density (Ro) in Kg/m3:8912"
   ]
  }
 ],
 "metadata": {
  "kernelspec": {
   "display_name": "Python 3 (ipykernel)",
   "language": "python",
   "name": "python3"
  },
  "language_info": {
   "codemirror_mode": {
    "name": "ipython",
    "version": 3
   },
   "file_extension": ".py",
   "mimetype": "text/x-python",
   "name": "python",
   "nbconvert_exporter": "python",
   "pygments_lexer": "ipython3",
   "version": "3.11.5"
  }
 },
 "nbformat": 4,
 "nbformat_minor": 5
}
