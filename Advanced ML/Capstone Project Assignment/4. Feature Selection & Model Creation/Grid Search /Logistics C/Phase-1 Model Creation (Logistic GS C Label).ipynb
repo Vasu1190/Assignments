{
 "cells": [
  {
   "cell_type": "code",
   "execution_count": 1,
   "id": "36a16f58",
   "metadata": {},
   "outputs": [],
   "source": [
    "#importing the Libraies\n",
    "import numpy as np\n",
    "import matplotlib.pyplot as plt\n",
    "import pandas as pd\n",
    "from sklearn.preprocessing import LabelEncoder"
   ]
  },
  {
   "cell_type": "code",
   "execution_count": 2,
   "id": "0d70fa49",
   "metadata": {},
   "outputs": [
    {
     "data": {
      "text/html": [
       "<div>\n",
       "<style scoped>\n",
       "    .dataframe tbody tr th:only-of-type {\n",
       "        vertical-align: middle;\n",
       "    }\n",
       "\n",
       "    .dataframe tbody tr th {\n",
       "        vertical-align: top;\n",
       "    }\n",
       "\n",
       "    .dataframe thead th {\n",
       "        text-align: right;\n",
       "    }\n",
       "</style>\n",
       "<table border=\"1\" class=\"dataframe\">\n",
       "  <thead>\n",
       "    <tr style=\"text-align: right;\">\n",
       "      <th></th>\n",
       "      <th>Material</th>\n",
       "      <th>Su</th>\n",
       "      <th>Sy</th>\n",
       "      <th>E</th>\n",
       "      <th>G</th>\n",
       "      <th>mu</th>\n",
       "      <th>Ro</th>\n",
       "      <th>Use</th>\n",
       "    </tr>\n",
       "  </thead>\n",
       "  <tbody>\n",
       "    <tr>\n",
       "      <th>0</th>\n",
       "      <td>ANSI Steel SAE 1015 asrolled</td>\n",
       "      <td>421</td>\n",
       "      <td>314</td>\n",
       "      <td>207000</td>\n",
       "      <td>79000</td>\n",
       "      <td>0.3</td>\n",
       "      <td>7860</td>\n",
       "      <td>True</td>\n",
       "    </tr>\n",
       "    <tr>\n",
       "      <th>1</th>\n",
       "      <td>ANSI Steel SAE 1015 normalized</td>\n",
       "      <td>424</td>\n",
       "      <td>324</td>\n",
       "      <td>207000</td>\n",
       "      <td>79000</td>\n",
       "      <td>0.3</td>\n",
       "      <td>7860</td>\n",
       "      <td>True</td>\n",
       "    </tr>\n",
       "    <tr>\n",
       "      <th>2</th>\n",
       "      <td>ANSI Steel SAE 1015 annealed</td>\n",
       "      <td>386</td>\n",
       "      <td>284</td>\n",
       "      <td>207000</td>\n",
       "      <td>79000</td>\n",
       "      <td>0.3</td>\n",
       "      <td>7860</td>\n",
       "      <td>True</td>\n",
       "    </tr>\n",
       "    <tr>\n",
       "      <th>3</th>\n",
       "      <td>ANSI Steel SAE 1020 asrolled</td>\n",
       "      <td>448</td>\n",
       "      <td>331</td>\n",
       "      <td>207000</td>\n",
       "      <td>79000</td>\n",
       "      <td>0.3</td>\n",
       "      <td>7860</td>\n",
       "      <td>True</td>\n",
       "    </tr>\n",
       "    <tr>\n",
       "      <th>4</th>\n",
       "      <td>ANSI Steel SAE 1020 normalized</td>\n",
       "      <td>441</td>\n",
       "      <td>346</td>\n",
       "      <td>207000</td>\n",
       "      <td>79000</td>\n",
       "      <td>0.3</td>\n",
       "      <td>7860</td>\n",
       "      <td>True</td>\n",
       "    </tr>\n",
       "  </tbody>\n",
       "</table>\n",
       "</div>"
      ],
      "text/plain": [
       "                         Material   Su   Sy       E      G   mu    Ro   Use\n",
       "0    ANSI Steel SAE 1015 asrolled  421  314  207000  79000  0.3  7860  True\n",
       "1  ANSI Steel SAE 1015 normalized  424  324  207000  79000  0.3  7860  True\n",
       "2    ANSI Steel SAE 1015 annealed  386  284  207000  79000  0.3  7860  True\n",
       "3    ANSI Steel SAE 1020 asrolled  448  331  207000  79000  0.3  7860  True\n",
       "4  ANSI Steel SAE 1020 normalized  441  346  207000  79000  0.3  7860  True"
      ]
     },
     "execution_count": 2,
     "metadata": {},
     "output_type": "execute_result"
    }
   ],
   "source": [
    "dataset=pd.read_csv('PP_Mtrls_and_their_Mchncl_Prprts.csv')\n",
    "dataset.head()"
   ]
  },
  {
   "cell_type": "code",
   "execution_count": 3,
   "id": "13a08e08",
   "metadata": {
    "scrolled": true
   },
   "outputs": [],
   "source": [
    "dataset.drop('Material', axis=1, inplace=True)"
   ]
  },
  {
   "cell_type": "code",
   "execution_count": 4,
   "id": "7522e89a",
   "metadata": {},
   "outputs": [
    {
     "data": {
      "text/html": [
       "<div>\n",
       "<style scoped>\n",
       "    .dataframe tbody tr th:only-of-type {\n",
       "        vertical-align: middle;\n",
       "    }\n",
       "\n",
       "    .dataframe tbody tr th {\n",
       "        vertical-align: top;\n",
       "    }\n",
       "\n",
       "    .dataframe thead th {\n",
       "        text-align: right;\n",
       "    }\n",
       "</style>\n",
       "<table border=\"1\" class=\"dataframe\">\n",
       "  <thead>\n",
       "    <tr style=\"text-align: right;\">\n",
       "      <th></th>\n",
       "      <th>Su</th>\n",
       "      <th>E</th>\n",
       "      <th>G</th>\n",
       "      <th>Ro</th>\n",
       "      <th>Use</th>\n",
       "    </tr>\n",
       "  </thead>\n",
       "  <tbody>\n",
       "    <tr>\n",
       "      <th>0</th>\n",
       "      <td>421</td>\n",
       "      <td>207000</td>\n",
       "      <td>79000</td>\n",
       "      <td>7860</td>\n",
       "      <td>True</td>\n",
       "    </tr>\n",
       "    <tr>\n",
       "      <th>1</th>\n",
       "      <td>424</td>\n",
       "      <td>207000</td>\n",
       "      <td>79000</td>\n",
       "      <td>7860</td>\n",
       "      <td>True</td>\n",
       "    </tr>\n",
       "    <tr>\n",
       "      <th>2</th>\n",
       "      <td>386</td>\n",
       "      <td>207000</td>\n",
       "      <td>79000</td>\n",
       "      <td>7860</td>\n",
       "      <td>True</td>\n",
       "    </tr>\n",
       "    <tr>\n",
       "      <th>3</th>\n",
       "      <td>448</td>\n",
       "      <td>207000</td>\n",
       "      <td>79000</td>\n",
       "      <td>7860</td>\n",
       "      <td>True</td>\n",
       "    </tr>\n",
       "    <tr>\n",
       "      <th>4</th>\n",
       "      <td>441</td>\n",
       "      <td>207000</td>\n",
       "      <td>79000</td>\n",
       "      <td>7860</td>\n",
       "      <td>True</td>\n",
       "    </tr>\n",
       "  </tbody>\n",
       "</table>\n",
       "</div>"
      ],
      "text/plain": [
       "    Su       E      G    Ro   Use\n",
       "0  421  207000  79000  7860  True\n",
       "1  424  207000  79000  7860  True\n",
       "2  386  207000  79000  7860  True\n",
       "3  448  207000  79000  7860  True\n",
       "4  441  207000  79000  7860  True"
      ]
     },
     "execution_count": 4,
     "metadata": {},
     "output_type": "execute_result"
    }
   ],
   "source": [
    "columns_to_drop = ['Sy','mu']\n",
    "dataset = dataset.drop(columns=columns_to_drop)\n",
    "dataset.head()"
   ]
  },
  {
   "cell_type": "code",
   "execution_count": 5,
   "id": "c09e302a",
   "metadata": {},
   "outputs": [
    {
     "name": "stdout",
     "output_type": "stream",
     "text": [
      "<class 'pandas.core.frame.DataFrame'>\n",
      "RangeIndex: 802 entries, 0 to 801\n",
      "Data columns (total 5 columns):\n",
      " #   Column  Non-Null Count  Dtype \n",
      "---  ------  --------------  ----- \n",
      " 0   Su      802 non-null    int64 \n",
      " 1   E       802 non-null    int64 \n",
      " 2   G       802 non-null    int64 \n",
      " 3   Ro      802 non-null    int64 \n",
      " 4   Use     802 non-null    object\n",
      "dtypes: int64(4), object(1)\n",
      "memory usage: 31.5+ KB\n"
     ]
    }
   ],
   "source": [
    "dataset['Use'] = dataset['Use'].astype('object')\n",
    "dataset.info()"
   ]
  },
  {
   "cell_type": "code",
   "execution_count": 6,
   "id": "b78208e0",
   "metadata": {},
   "outputs": [
    {
     "data": {
      "text/html": [
       "<div>\n",
       "<style scoped>\n",
       "    .dataframe tbody tr th:only-of-type {\n",
       "        vertical-align: middle;\n",
       "    }\n",
       "\n",
       "    .dataframe tbody tr th {\n",
       "        vertical-align: top;\n",
       "    }\n",
       "\n",
       "    .dataframe thead th {\n",
       "        text-align: right;\n",
       "    }\n",
       "</style>\n",
       "<table border=\"1\" class=\"dataframe\">\n",
       "  <thead>\n",
       "    <tr style=\"text-align: right;\">\n",
       "      <th></th>\n",
       "      <th>Su</th>\n",
       "      <th>E</th>\n",
       "      <th>G</th>\n",
       "      <th>Ro</th>\n",
       "      <th>Use_True</th>\n",
       "    </tr>\n",
       "  </thead>\n",
       "  <tbody>\n",
       "    <tr>\n",
       "      <th>0</th>\n",
       "      <td>421</td>\n",
       "      <td>207000</td>\n",
       "      <td>79000</td>\n",
       "      <td>7860</td>\n",
       "      <td>True</td>\n",
       "    </tr>\n",
       "    <tr>\n",
       "      <th>1</th>\n",
       "      <td>424</td>\n",
       "      <td>207000</td>\n",
       "      <td>79000</td>\n",
       "      <td>7860</td>\n",
       "      <td>True</td>\n",
       "    </tr>\n",
       "    <tr>\n",
       "      <th>2</th>\n",
       "      <td>386</td>\n",
       "      <td>207000</td>\n",
       "      <td>79000</td>\n",
       "      <td>7860</td>\n",
       "      <td>True</td>\n",
       "    </tr>\n",
       "    <tr>\n",
       "      <th>3</th>\n",
       "      <td>448</td>\n",
       "      <td>207000</td>\n",
       "      <td>79000</td>\n",
       "      <td>7860</td>\n",
       "      <td>True</td>\n",
       "    </tr>\n",
       "    <tr>\n",
       "      <th>4</th>\n",
       "      <td>441</td>\n",
       "      <td>207000</td>\n",
       "      <td>79000</td>\n",
       "      <td>7860</td>\n",
       "      <td>True</td>\n",
       "    </tr>\n",
       "  </tbody>\n",
       "</table>\n",
       "</div>"
      ],
      "text/plain": [
       "    Su       E      G    Ro  Use_True\n",
       "0  421  207000  79000  7860      True\n",
       "1  424  207000  79000  7860      True\n",
       "2  386  207000  79000  7860      True\n",
       "3  448  207000  79000  7860      True\n",
       "4  441  207000  79000  7860      True"
      ]
     },
     "execution_count": 6,
     "metadata": {},
     "output_type": "execute_result"
    }
   ],
   "source": [
    "dataset=pd.get_dummies(dataset,drop_first=True)\n",
    "\n",
    "dataset.head()"
   ]
  },
  {
   "cell_type": "code",
   "execution_count": 7,
   "id": "d98bd07c",
   "metadata": {},
   "outputs": [
    {
     "data": {
      "text/html": [
       "<div>\n",
       "<style scoped>\n",
       "    .dataframe tbody tr th:only-of-type {\n",
       "        vertical-align: middle;\n",
       "    }\n",
       "\n",
       "    .dataframe tbody tr th {\n",
       "        vertical-align: top;\n",
       "    }\n",
       "\n",
       "    .dataframe thead th {\n",
       "        text-align: right;\n",
       "    }\n",
       "</style>\n",
       "<table border=\"1\" class=\"dataframe\">\n",
       "  <thead>\n",
       "    <tr style=\"text-align: right;\">\n",
       "      <th></th>\n",
       "      <th>Su</th>\n",
       "      <th>E</th>\n",
       "      <th>G</th>\n",
       "      <th>Ro</th>\n",
       "      <th>Use_True</th>\n",
       "    </tr>\n",
       "  </thead>\n",
       "  <tbody>\n",
       "    <tr>\n",
       "      <th>0</th>\n",
       "      <td>421</td>\n",
       "      <td>207000</td>\n",
       "      <td>79000</td>\n",
       "      <td>7860</td>\n",
       "      <td>1</td>\n",
       "    </tr>\n",
       "    <tr>\n",
       "      <th>1</th>\n",
       "      <td>424</td>\n",
       "      <td>207000</td>\n",
       "      <td>79000</td>\n",
       "      <td>7860</td>\n",
       "      <td>1</td>\n",
       "    </tr>\n",
       "    <tr>\n",
       "      <th>2</th>\n",
       "      <td>386</td>\n",
       "      <td>207000</td>\n",
       "      <td>79000</td>\n",
       "      <td>7860</td>\n",
       "      <td>1</td>\n",
       "    </tr>\n",
       "    <tr>\n",
       "      <th>3</th>\n",
       "      <td>448</td>\n",
       "      <td>207000</td>\n",
       "      <td>79000</td>\n",
       "      <td>7860</td>\n",
       "      <td>1</td>\n",
       "    </tr>\n",
       "    <tr>\n",
       "      <th>4</th>\n",
       "      <td>441</td>\n",
       "      <td>207000</td>\n",
       "      <td>79000</td>\n",
       "      <td>7860</td>\n",
       "      <td>1</td>\n",
       "    </tr>\n",
       "    <tr>\n",
       "      <th>...</th>\n",
       "      <td>...</td>\n",
       "      <td>...</td>\n",
       "      <td>...</td>\n",
       "      <td>...</td>\n",
       "      <td>...</td>\n",
       "    </tr>\n",
       "    <tr>\n",
       "      <th>797</th>\n",
       "      <td>980</td>\n",
       "      <td>206000</td>\n",
       "      <td>80000</td>\n",
       "      <td>7860</td>\n",
       "      <td>0</td>\n",
       "    </tr>\n",
       "    <tr>\n",
       "      <th>798</th>\n",
       "      <td>1100</td>\n",
       "      <td>206000</td>\n",
       "      <td>80000</td>\n",
       "      <td>7860</td>\n",
       "      <td>0</td>\n",
       "    </tr>\n",
       "    <tr>\n",
       "      <th>799</th>\n",
       "      <td>1200</td>\n",
       "      <td>206000</td>\n",
       "      <td>80000</td>\n",
       "      <td>7860</td>\n",
       "      <td>0</td>\n",
       "    </tr>\n",
       "    <tr>\n",
       "      <th>800</th>\n",
       "      <td>1030</td>\n",
       "      <td>206000</td>\n",
       "      <td>80000</td>\n",
       "      <td>7860</td>\n",
       "      <td>0</td>\n",
       "    </tr>\n",
       "    <tr>\n",
       "      <th>801</th>\n",
       "      <td>1226</td>\n",
       "      <td>206000</td>\n",
       "      <td>80000</td>\n",
       "      <td>7860</td>\n",
       "      <td>0</td>\n",
       "    </tr>\n",
       "  </tbody>\n",
       "</table>\n",
       "<p>802 rows × 5 columns</p>\n",
       "</div>"
      ],
      "text/plain": [
       "       Su       E      G    Ro  Use_True\n",
       "0     421  207000  79000  7860         1\n",
       "1     424  207000  79000  7860         1\n",
       "2     386  207000  79000  7860         1\n",
       "3     448  207000  79000  7860         1\n",
       "4     441  207000  79000  7860         1\n",
       "..    ...     ...    ...   ...       ...\n",
       "797   980  206000  80000  7860         0\n",
       "798  1100  206000  80000  7860         0\n",
       "799  1200  206000  80000  7860         0\n",
       "800  1030  206000  80000  7860         0\n",
       "801  1226  206000  80000  7860         0\n",
       "\n",
       "[802 rows x 5 columns]"
      ]
     },
     "execution_count": 7,
     "metadata": {},
     "output_type": "execute_result"
    }
   ],
   "source": [
    "label_encoder = LabelEncoder()\n",
    "\n",
    "# Fit and transform the target column\n",
    "dataset['Use_True'] = label_encoder.fit_transform(dataset['Use_True'])\n",
    "dataset"
   ]
  },
  {
   "cell_type": "code",
   "execution_count": 8,
   "id": "ab2275f1",
   "metadata": {},
   "outputs": [],
   "source": [
    "indep=dataset[['Su','E','G','Ro']]\n",
    "dep=dataset[\"Use_True\"]"
   ]
  },
  {
   "cell_type": "code",
   "execution_count": 9,
   "id": "2b617a2c",
   "metadata": {},
   "outputs": [],
   "source": [
    "#split into training set and test\n",
    "from sklearn.model_selection import train_test_split\n",
    "X_train, X_test, y_train, y_test = train_test_split(indep, dep, test_size = 1/3, random_state = 0)"
   ]
  },
  {
   "cell_type": "code",
   "execution_count": 10,
   "id": "96a433e5",
   "metadata": {},
   "outputs": [],
   "source": [
    "from sklearn.preprocessing import StandardScaler\n",
    "sc = StandardScaler()\n",
    "X_train = sc.fit_transform(X_train)\n",
    "X_test = sc.transform(X_test)"
   ]
  },
  {
   "cell_type": "code",
   "execution_count": 11,
   "id": "c4ed5419",
   "metadata": {},
   "outputs": [],
   "source": [
    "from sklearn.linear_model import LogisticRegression"
   ]
  },
  {
   "cell_type": "code",
   "execution_count": 12,
   "id": "91bfeb3c",
   "metadata": {},
   "outputs": [
    {
     "name": "stdout",
     "output_type": "stream",
     "text": [
      "Fitting 5 folds for each of 4 candidates, totalling 20 fits\n"
     ]
    },
    {
     "data": {
      "text/html": [
       "<style>#sk-container-id-1 {color: black;background-color: white;}#sk-container-id-1 pre{padding: 0;}#sk-container-id-1 div.sk-toggleable {background-color: white;}#sk-container-id-1 label.sk-toggleable__label {cursor: pointer;display: block;width: 100%;margin-bottom: 0;padding: 0.3em;box-sizing: border-box;text-align: center;}#sk-container-id-1 label.sk-toggleable__label-arrow:before {content: \"▸\";float: left;margin-right: 0.25em;color: #696969;}#sk-container-id-1 label.sk-toggleable__label-arrow:hover:before {color: black;}#sk-container-id-1 div.sk-estimator:hover label.sk-toggleable__label-arrow:before {color: black;}#sk-container-id-1 div.sk-toggleable__content {max-height: 0;max-width: 0;overflow: hidden;text-align: left;background-color: #f0f8ff;}#sk-container-id-1 div.sk-toggleable__content pre {margin: 0.2em;color: black;border-radius: 0.25em;background-color: #f0f8ff;}#sk-container-id-1 input.sk-toggleable__control:checked~div.sk-toggleable__content {max-height: 200px;max-width: 100%;overflow: auto;}#sk-container-id-1 input.sk-toggleable__control:checked~label.sk-toggleable__label-arrow:before {content: \"▾\";}#sk-container-id-1 div.sk-estimator input.sk-toggleable__control:checked~label.sk-toggleable__label {background-color: #d4ebff;}#sk-container-id-1 div.sk-label input.sk-toggleable__control:checked~label.sk-toggleable__label {background-color: #d4ebff;}#sk-container-id-1 input.sk-hidden--visually {border: 0;clip: rect(1px 1px 1px 1px);clip: rect(1px, 1px, 1px, 1px);height: 1px;margin: -1px;overflow: hidden;padding: 0;position: absolute;width: 1px;}#sk-container-id-1 div.sk-estimator {font-family: monospace;background-color: #f0f8ff;border: 1px dotted black;border-radius: 0.25em;box-sizing: border-box;margin-bottom: 0.5em;}#sk-container-id-1 div.sk-estimator:hover {background-color: #d4ebff;}#sk-container-id-1 div.sk-parallel-item::after {content: \"\";width: 100%;border-bottom: 1px solid gray;flex-grow: 1;}#sk-container-id-1 div.sk-label:hover label.sk-toggleable__label {background-color: #d4ebff;}#sk-container-id-1 div.sk-serial::before {content: \"\";position: absolute;border-left: 1px solid gray;box-sizing: border-box;top: 0;bottom: 0;left: 50%;z-index: 0;}#sk-container-id-1 div.sk-serial {display: flex;flex-direction: column;align-items: center;background-color: white;padding-right: 0.2em;padding-left: 0.2em;position: relative;}#sk-container-id-1 div.sk-item {position: relative;z-index: 1;}#sk-container-id-1 div.sk-parallel {display: flex;align-items: stretch;justify-content: center;background-color: white;position: relative;}#sk-container-id-1 div.sk-item::before, #sk-container-id-1 div.sk-parallel-item::before {content: \"\";position: absolute;border-left: 1px solid gray;box-sizing: border-box;top: 0;bottom: 0;left: 50%;z-index: -1;}#sk-container-id-1 div.sk-parallel-item {display: flex;flex-direction: column;z-index: 1;position: relative;background-color: white;}#sk-container-id-1 div.sk-parallel-item:first-child::after {align-self: flex-end;width: 50%;}#sk-container-id-1 div.sk-parallel-item:last-child::after {align-self: flex-start;width: 50%;}#sk-container-id-1 div.sk-parallel-item:only-child::after {width: 0;}#sk-container-id-1 div.sk-dashed-wrapped {border: 1px dashed gray;margin: 0 0.4em 0.5em 0.4em;box-sizing: border-box;padding-bottom: 0.4em;background-color: white;}#sk-container-id-1 div.sk-label label {font-family: monospace;font-weight: bold;display: inline-block;line-height: 1.2em;}#sk-container-id-1 div.sk-label-container {text-align: center;}#sk-container-id-1 div.sk-container {/* jupyter's `normalize.less` sets `[hidden] { display: none; }` but bootstrap.min.css set `[hidden] { display: none !important; }` so we also need the `!important` here to be able to override the default hidden behavior on the sphinx rendered scikit-learn.org. See: https://github.com/scikit-learn/scikit-learn/issues/21755 */display: inline-block !important;position: relative;}#sk-container-id-1 div.sk-text-repr-fallback {display: none;}</style><div id=\"sk-container-id-1\" class=\"sk-top-container\"><div class=\"sk-text-repr-fallback\"><pre>GridSearchCV(estimator=LogisticRegression(), n_jobs=-1,\n",
       "             param_grid={&#x27;penalty&#x27;: [&#x27;l2&#x27;],\n",
       "                         &#x27;solver&#x27;: [&#x27;newton-cg&#x27;, &#x27;lbfgs&#x27;, &#x27;liblinear&#x27;, &#x27;saga&#x27;]},\n",
       "             scoring=&#x27;f1_weighted&#x27;, verbose=3)</pre><b>In a Jupyter environment, please rerun this cell to show the HTML representation or trust the notebook. <br />On GitHub, the HTML representation is unable to render, please try loading this page with nbviewer.org.</b></div><div class=\"sk-container\" hidden><div class=\"sk-item sk-dashed-wrapped\"><div class=\"sk-label-container\"><div class=\"sk-label sk-toggleable\"><input class=\"sk-toggleable__control sk-hidden--visually\" id=\"sk-estimator-id-1\" type=\"checkbox\" ><label for=\"sk-estimator-id-1\" class=\"sk-toggleable__label sk-toggleable__label-arrow\">GridSearchCV</label><div class=\"sk-toggleable__content\"><pre>GridSearchCV(estimator=LogisticRegression(), n_jobs=-1,\n",
       "             param_grid={&#x27;penalty&#x27;: [&#x27;l2&#x27;],\n",
       "                         &#x27;solver&#x27;: [&#x27;newton-cg&#x27;, &#x27;lbfgs&#x27;, &#x27;liblinear&#x27;, &#x27;saga&#x27;]},\n",
       "             scoring=&#x27;f1_weighted&#x27;, verbose=3)</pre></div></div></div><div class=\"sk-parallel\"><div class=\"sk-parallel-item\"><div class=\"sk-item\"><div class=\"sk-label-container\"><div class=\"sk-label sk-toggleable\"><input class=\"sk-toggleable__control sk-hidden--visually\" id=\"sk-estimator-id-2\" type=\"checkbox\" ><label for=\"sk-estimator-id-2\" class=\"sk-toggleable__label sk-toggleable__label-arrow\">estimator: LogisticRegression</label><div class=\"sk-toggleable__content\"><pre>LogisticRegression()</pre></div></div></div><div class=\"sk-serial\"><div class=\"sk-item\"><div class=\"sk-estimator sk-toggleable\"><input class=\"sk-toggleable__control sk-hidden--visually\" id=\"sk-estimator-id-3\" type=\"checkbox\" ><label for=\"sk-estimator-id-3\" class=\"sk-toggleable__label sk-toggleable__label-arrow\">LogisticRegression</label><div class=\"sk-toggleable__content\"><pre>LogisticRegression()</pre></div></div></div></div></div></div></div></div></div></div>"
      ],
      "text/plain": [
       "GridSearchCV(estimator=LogisticRegression(), n_jobs=-1,\n",
       "             param_grid={'penalty': ['l2'],\n",
       "                         'solver': ['newton-cg', 'lbfgs', 'liblinear', 'saga']},\n",
       "             scoring='f1_weighted', verbose=3)"
      ]
     },
     "execution_count": 12,
     "metadata": {},
     "output_type": "execute_result"
    }
   ],
   "source": [
    "from sklearn.model_selection import GridSearchCV\n",
    "param_grid = {'solver':['newton-cg', 'lbfgs', 'liblinear', 'saga'],\n",
    "             'penalty':['l2']} \n",
    "grid = GridSearchCV(LogisticRegression(), param_grid, refit = True, verbose = 3,n_jobs=-1,scoring='f1_weighted')\n",
    "grid.fit(X_train, y_train) "
   ]
  },
  {
   "cell_type": "code",
   "execution_count": 13,
   "id": "afb41cd7",
   "metadata": {},
   "outputs": [
    {
     "name": "stdout",
     "output_type": "stream",
     "text": [
      "The confusion Matrix:\n",
      " [[254   1]\n",
      " [ 13   0]]\n"
     ]
    }
   ],
   "source": [
    "re=grid.cv_results_\n",
    "grid_predictions = grid.predict(X_test) \n",
    "from sklearn.metrics import confusion_matrix\n",
    "cm = confusion_matrix(y_test, grid_predictions)\n",
    "print(\"The confusion Matrix:\\n\",cm)"
   ]
  },
  {
   "cell_type": "code",
   "execution_count": 14,
   "id": "3f795d03",
   "metadata": {},
   "outputs": [
    {
     "name": "stdout",
     "output_type": "stream",
     "text": [
      "The report:\n",
      "               precision    recall  f1-score   support\n",
      "\n",
      "           0       0.95      1.00      0.97       255\n",
      "           1       0.00      0.00      0.00        13\n",
      "\n",
      "    accuracy                           0.95       268\n",
      "   macro avg       0.48      0.50      0.49       268\n",
      "weighted avg       0.91      0.95      0.93       268\n",
      "\n"
     ]
    }
   ],
   "source": [
    "from sklearn.metrics import classification_report\n",
    "clf_report = classification_report(y_test, grid_predictions)\n",
    "print(\"The report:\\n\",clf_report)"
   ]
  },
  {
   "cell_type": "code",
   "execution_count": 15,
   "id": "de74ac4e",
   "metadata": {},
   "outputs": [
    {
     "name": "stdout",
     "output_type": "stream",
     "text": [
      "The f1_macro value for best parameter {'penalty': 'l2', 'solver': 'liblinear'}: 0.9259735803739921\n"
     ]
    }
   ],
   "source": [
    "from sklearn.metrics import f1_score\n",
    "f1_macro=f1_score(y_test,grid_predictions,average='weighted')\n",
    "print(\"The f1_macro value for best parameter {}:\".format(grid.best_params_),f1_macro)"
   ]
  },
  {
   "cell_type": "code",
   "execution_count": 16,
   "id": "fb834ef1",
   "metadata": {},
   "outputs": [
    {
     "name": "stdout",
     "output_type": "stream",
     "text": [
      "The roc_auc_score is: 0.9714932126696832\n"
     ]
    }
   ],
   "source": [
    "from sklearn.metrics import roc_auc_score\n",
    "roc_auc_score=roc_auc_score(y_test,grid.predict_proba(X_test)[:,1])\n",
    "print(\"The roc_auc_score is:\",roc_auc_score)"
   ]
  },
  {
   "cell_type": "code",
   "execution_count": 17,
   "id": "bf10a489",
   "metadata": {},
   "outputs": [
    {
     "data": {
      "text/html": [
       "<div>\n",
       "<style scoped>\n",
       "    .dataframe tbody tr th:only-of-type {\n",
       "        vertical-align: middle;\n",
       "    }\n",
       "\n",
       "    .dataframe tbody tr th {\n",
       "        vertical-align: top;\n",
       "    }\n",
       "\n",
       "    .dataframe thead th {\n",
       "        text-align: right;\n",
       "    }\n",
       "</style>\n",
       "<table border=\"1\" class=\"dataframe\">\n",
       "  <thead>\n",
       "    <tr style=\"text-align: right;\">\n",
       "      <th></th>\n",
       "      <th>mean_fit_time</th>\n",
       "      <th>std_fit_time</th>\n",
       "      <th>mean_score_time</th>\n",
       "      <th>std_score_time</th>\n",
       "      <th>param_penalty</th>\n",
       "      <th>param_solver</th>\n",
       "      <th>params</th>\n",
       "      <th>split0_test_score</th>\n",
       "      <th>split1_test_score</th>\n",
       "      <th>split2_test_score</th>\n",
       "      <th>split3_test_score</th>\n",
       "      <th>split4_test_score</th>\n",
       "      <th>mean_test_score</th>\n",
       "      <th>std_test_score</th>\n",
       "      <th>rank_test_score</th>\n",
       "    </tr>\n",
       "  </thead>\n",
       "  <tbody>\n",
       "    <tr>\n",
       "      <th>0</th>\n",
       "      <td>0.005836</td>\n",
       "      <td>0.003496</td>\n",
       "      <td>0.001087</td>\n",
       "      <td>0.000548</td>\n",
       "      <td>l2</td>\n",
       "      <td>newton-cg</td>\n",
       "      <td>{'penalty': 'l2', 'solver': 'newton-cg'}</td>\n",
       "      <td>0.930466</td>\n",
       "      <td>0.925773</td>\n",
       "      <td>0.916697</td>\n",
       "      <td>0.912005</td>\n",
       "      <td>0.929815</td>\n",
       "      <td>0.922951</td>\n",
       "      <td>0.007355</td>\n",
       "      <td>2</td>\n",
       "    </tr>\n",
       "    <tr>\n",
       "      <th>1</th>\n",
       "      <td>0.005374</td>\n",
       "      <td>0.003627</td>\n",
       "      <td>0.001296</td>\n",
       "      <td>0.000523</td>\n",
       "      <td>l2</td>\n",
       "      <td>lbfgs</td>\n",
       "      <td>{'penalty': 'l2', 'solver': 'lbfgs'}</td>\n",
       "      <td>0.930466</td>\n",
       "      <td>0.925773</td>\n",
       "      <td>0.916697</td>\n",
       "      <td>0.912005</td>\n",
       "      <td>0.929815</td>\n",
       "      <td>0.922951</td>\n",
       "      <td>0.007355</td>\n",
       "      <td>2</td>\n",
       "    </tr>\n",
       "    <tr>\n",
       "      <th>2</th>\n",
       "      <td>0.001147</td>\n",
       "      <td>0.000599</td>\n",
       "      <td>0.001182</td>\n",
       "      <td>0.001212</td>\n",
       "      <td>l2</td>\n",
       "      <td>liblinear</td>\n",
       "      <td>{'penalty': 'l2', 'solver': 'liblinear'}</td>\n",
       "      <td>0.930466</td>\n",
       "      <td>0.930466</td>\n",
       "      <td>0.916697</td>\n",
       "      <td>0.916697</td>\n",
       "      <td>0.929815</td>\n",
       "      <td>0.924828</td>\n",
       "      <td>0.006643</td>\n",
       "      <td>1</td>\n",
       "    </tr>\n",
       "    <tr>\n",
       "      <th>3</th>\n",
       "      <td>0.002757</td>\n",
       "      <td>0.001756</td>\n",
       "      <td>0.001198</td>\n",
       "      <td>0.000722</td>\n",
       "      <td>l2</td>\n",
       "      <td>saga</td>\n",
       "      <td>{'penalty': 'l2', 'solver': 'saga'}</td>\n",
       "      <td>0.930466</td>\n",
       "      <td>0.925773</td>\n",
       "      <td>0.916697</td>\n",
       "      <td>0.912005</td>\n",
       "      <td>0.929815</td>\n",
       "      <td>0.922951</td>\n",
       "      <td>0.007355</td>\n",
       "      <td>2</td>\n",
       "    </tr>\n",
       "  </tbody>\n",
       "</table>\n",
       "</div>"
      ],
      "text/plain": [
       "   mean_fit_time  std_fit_time  mean_score_time  std_score_time param_penalty  \\\n",
       "0       0.005836      0.003496         0.001087        0.000548            l2   \n",
       "1       0.005374      0.003627         0.001296        0.000523            l2   \n",
       "2       0.001147      0.000599         0.001182        0.001212            l2   \n",
       "3       0.002757      0.001756         0.001198        0.000722            l2   \n",
       "\n",
       "  param_solver                                    params  split0_test_score  \\\n",
       "0    newton-cg  {'penalty': 'l2', 'solver': 'newton-cg'}           0.930466   \n",
       "1        lbfgs      {'penalty': 'l2', 'solver': 'lbfgs'}           0.930466   \n",
       "2    liblinear  {'penalty': 'l2', 'solver': 'liblinear'}           0.930466   \n",
       "3         saga       {'penalty': 'l2', 'solver': 'saga'}           0.930466   \n",
       "\n",
       "   split1_test_score  split2_test_score  split3_test_score  split4_test_score  \\\n",
       "0           0.925773           0.916697           0.912005           0.929815   \n",
       "1           0.925773           0.916697           0.912005           0.929815   \n",
       "2           0.930466           0.916697           0.916697           0.929815   \n",
       "3           0.925773           0.916697           0.912005           0.929815   \n",
       "\n",
       "   mean_test_score  std_test_score  rank_test_score  \n",
       "0         0.922951        0.007355                2  \n",
       "1         0.922951        0.007355                2  \n",
       "2         0.924828        0.006643                1  \n",
       "3         0.922951        0.007355                2  "
      ]
     },
     "execution_count": 17,
     "metadata": {},
     "output_type": "execute_result"
    }
   ],
   "source": [
    "table=pd.DataFrame.from_dict(re)\n",
    "table"
   ]
  },
  {
   "cell_type": "code",
   "execution_count": 18,
   "id": "49a50d36",
   "metadata": {},
   "outputs": [
    {
     "name": "stdout",
     "output_type": "stream",
     "text": [
      "Ultimate Tensile Strength (Su) in MPa:1000\n",
      "Elastic Modulus (E) in MPa:119876\n",
      "Shear Modulus (G) in MPa:67543\n",
      "Density (Ro) in Kg/m3:8912\n"
     ]
    }
   ],
   "source": [
    "su_input=float(input(\"Ultimate Tensile Strength (Su) in MPa:\"))\n",
    "E_input=float(input(\"Elastic Modulus (E) in MPa:\"))\n",
    "g_input=float(input(\"Shear Modulus (G) in MPa:\"))\n",
    "ro_input=float(input(\"Density (Ro) in Kg/m3:\"))"
   ]
  },
  {
   "cell_type": "code",
   "execution_count": 19,
   "id": "e6ce6737",
   "metadata": {},
   "outputs": [
    {
     "name": "stdout",
     "output_type": "stream",
     "text": [
      "Future_Prediction=[True]\n",
      "[CV 5/5] END ......penalty=l2, solver=newton-cg;, score=0.930 total time=   0.0s\n",
      "[CV 4/5] END ..........penalty=l2, solver=lbfgs;, score=0.912 total time=   0.0s\n",
      "[CV 5/5] END ..........penalty=l2, solver=lbfgs;, score=0.930 total time=   0.0s\n",
      "[CV 2/5] END ......penalty=l2, solver=liblinear;, score=0.930 total time=   0.0s\n",
      "[CV 1/5] END ...........penalty=l2, solver=saga;, score=0.930 total time=   0.0s\n",
      "[CV 5/5] END ...........penalty=l2, solver=saga;, score=0.930 total time=   0.0s\n",
      "[CV 1/5] END ......penalty=l2, solver=newton-cg;, score=0.930 total time=   0.0s\n",
      "[CV 1/5] END ......penalty=l2, solver=liblinear;, score=0.930 total time=   0.0s\n",
      "[CV 3/5] END ......penalty=l2, solver=liblinear;, score=0.917 total time=   0.0s\n",
      "[CV 4/5] END ......penalty=l2, solver=liblinear;, score=0.917 total time=   0.0s\n",
      "[CV 5/5] END ......penalty=l2, solver=liblinear;, score=0.930 total time=   0.0s\n",
      "[CV 2/5] END ...........penalty=l2, solver=saga;, score=0.926 total time=   0.0s\n",
      "[CV 3/5] END ...........penalty=l2, solver=saga;, score=0.917 total time=   0.0s\n",
      "[CV 4/5] END ...........penalty=l2, solver=saga;, score=0.912 total time=   0.0s\n",
      "[CV 2/5] END ..........penalty=l2, solver=lbfgs;, score=0.926 total time=   0.0s\n",
      "[CV 4/5] END ......penalty=l2, solver=newton-cg;, score=0.912 total time=   0.0s\n",
      "[CV 3/5] END ..........penalty=l2, solver=lbfgs;, score=0.917 total time=   0.0s\n",
      "[CV 3/5] END ......penalty=l2, solver=newton-cg;, score=0.917 total time=   0.0s\n",
      "[CV 2/5] END ......penalty=l2, solver=newton-cg;, score=0.926 total time=   0.0s\n"
     ]
    }
   ],
   "source": [
    "Future_Prediction=grid.predict([[su_input,E_input,g_input,ro_input]])\n",
    "y=(\"Future_Prediction={}\".format(Future_Prediction))\n",
    "if (y==0):\n",
    "    print(\"Future_Prediction=[False]\")\n",
    "else:\n",
    "    print('Future_Prediction=[True]')"
   ]
  },
  {
   "cell_type": "code",
   "execution_count": null,
   "id": "24f485a6",
   "metadata": {},
   "outputs": [],
   "source": []
  },
  {
   "cell_type": "code",
   "execution_count": null,
   "id": "1918f935",
   "metadata": {},
   "outputs": [],
   "source": []
  }
 ],
 "metadata": {
  "kernelspec": {
   "display_name": "Python 3 (ipykernel)",
   "language": "python",
   "name": "python3"
  },
  "language_info": {
   "codemirror_mode": {
    "name": "ipython",
    "version": 3
   },
   "file_extension": ".py",
   "mimetype": "text/x-python",
   "name": "python",
   "nbconvert_exporter": "python",
   "pygments_lexer": "ipython3",
   "version": "3.11.5"
  }
 },
 "nbformat": 4,
 "nbformat_minor": 5
}
