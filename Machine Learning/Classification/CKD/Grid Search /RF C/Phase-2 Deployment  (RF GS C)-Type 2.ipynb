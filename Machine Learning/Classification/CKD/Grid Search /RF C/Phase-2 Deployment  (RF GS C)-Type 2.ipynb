{
 "cells": [
  {
   "cell_type": "code",
   "execution_count": 1,
   "id": "30edea2b",
   "metadata": {},
   "outputs": [],
   "source": [
    "import pickle"
   ]
  },
  {
   "cell_type": "code",
   "execution_count": 2,
   "id": "e5961616",
   "metadata": {},
   "outputs": [
    {
     "name": "stdout",
     "output_type": "stream",
     "text": [
      "Age:33\n",
      "BP:90\n",
      "SG 0 or 1 or 2 or 3 or 4:1\n",
      "AL:2\n",
      "SU:2\n",
      "BGR:208\n",
      "BU:111\n",
      "SC:5\n",
      "SOD:127\n",
      "POT:4\n",
      "HRMO:13\n",
      "PCV:51\n",
      "WC:1100\n",
      "RC:6.1\n",
      "RBC Normal 0 or 1:1\n",
      "PC Normal 0 or 1:1\n",
      "PCC Present 0 or 1:0\n",
      "BA Present 0 or 1:1\n",
      "HTN Yes 0 or 1:0\n",
      "DM Yes 0 or 1:0\n",
      "CAD Yes or No:0\n",
      "APPET Yes 0 or 1:1\n",
      "PE Yes or No:0\n",
      "ANE Yes 0 or 1:1\n"
     ]
    }
   ],
   "source": [
    "age_input=float(input(\"Age:\"))\n",
    "bp_input=float(input(\"BP:\"))\n",
    "sg_input=float(input(\"SG 0 or 1 or 2 or 3 or 4:\"))\n",
    "al_input=float(input(\"AL:\"))\n",
    "su_input=float(input(\"SU:\"))\n",
    "bgr_input=float(input(\"BGR:\"))\n",
    "bu_input=float(input(\"BU:\"))\n",
    "sc_input=float(input(\"SC:\"))\n",
    "sod_input=float(input(\"SOD:\"))\n",
    "pot_input=float(input(\"POT:\"))\n",
    "hrmo_input=float(input(\"HRMO:\"))\n",
    "pcv_input=float(input(\"PCV:\"))\n",
    "wc_input=float(input(\"WC:\"))\n",
    "rc_input=float(input(\"RC:\"))\n",
    "rbc_normal_input=int(input(\"RBC Normal 0 or 1:\"))\n",
    "pc_normal_input=int(input(\"PC Normal 0 or 1:\"))\n",
    "pcc_present_input=int(input(\"PCC Present 0 or 1:\"))\n",
    "ba_present_input=int(input(\"BA Present 0 or 1:\"))\n",
    "htn_yes_input=int(input(\"HTN Yes 0 or 1:\"))\n",
    "dm_yes_input=int(input(\"DM Yes 0 or 1:\"))\n",
    "cad_yes_input=int(input(\"CAD Yes or No:\"))\n",
    "appet_yes_input=int(input(\"APPET Yes 0 or 1:\"))\n",
    "pe_yes_input=int(input(\"PE Yes or No:\"))\n",
    "ane_yes_input=int(input(\"ANE Yes 0 or 1:\"))"
   ]
  },
  {
   "cell_type": "code",
   "execution_count": 3,
   "id": "4af6a1c3",
   "metadata": {},
   "outputs": [
    {
     "name": "stdout",
     "output_type": "stream",
     "text": [
      "Future_Prediction=[Yes]\n"
     ]
    }
   ],
   "source": [
    "loaded_model=pickle.load(open(\"finalized_model_Random_Forest.sav\",'rb'))\n",
    "y=loaded_model.predict([[age_input,bp_input,sg_input,al_input,su_input,bgr_input,bu_input,sc_input,sod_input,pot_input,hrmo_input,pcv_input,wc_input,rc_input,rbc_normal_input,pc_normal_input,pcc_present_input,ba_present_input,htn_yes_input,dm_yes_input,cad_yes_input,appet_yes_input,pe_yes_input,ane_yes_input]])\n",
    "if (y==0):\n",
    "    print(\"Future_Prediction=[No]\")\n",
    "else:\n",
    "    print('Future_Prediction=[Yes]')"
   ]
  },
  {
   "cell_type": "code",
   "execution_count": null,
   "id": "9c054cb9",
   "metadata": {},
   "outputs": [],
   "source": []
  },
  {
   "cell_type": "markdown",
   "id": "d152f388",
   "metadata": {},
   "source": [
    "Future_Prediction=grid.predict([[33,90,1,2,2,208,111,5,127,4,13,51,1100,6.1,1,1,0,1,0,0,0,1,0,1]])\n",
    "print(\"Future_Prediction={}\".format(Future_Prediction)"
   ]
  }
 ],
 "metadata": {
  "kernelspec": {
   "display_name": "Python 3 (ipykernel)",
   "language": "python",
   "name": "python3"
  },
  "language_info": {
   "codemirror_mode": {
    "name": "ipython",
    "version": 3
   },
   "file_extension": ".py",
   "mimetype": "text/x-python",
   "name": "python",
   "nbconvert_exporter": "python",
   "pygments_lexer": "ipython3",
   "version": "3.11.4"
  }
 },
 "nbformat": 4,
 "nbformat_minor": 5
}
