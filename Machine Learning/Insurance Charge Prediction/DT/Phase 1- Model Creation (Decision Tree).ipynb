{
 "cells": [
  {
   "cell_type": "code",
   "execution_count": null,
   "id": "fa9b1e42",
   "metadata": {},
   "outputs": [],
   "source": [
    "import pandas as pd"
   ]
  },
  {
   "cell_type": "code",
   "execution_count": null,
   "id": "f9b0bd52",
   "metadata": {},
   "outputs": [],
   "source": [
    "dataset=pd.read_csv(\"Insurance_Prediction.csv\")"
   ]
  },
  {
   "cell_type": "code",
   "execution_count": null,
   "id": "f0dbd0b0",
   "metadata": {},
   "outputs": [],
   "source": [
    "dataset"
   ]
  },
  {
   "cell_type": "code",
   "execution_count": null,
   "id": "82d5f8c5",
   "metadata": {},
   "outputs": [],
   "source": [
    "dataset=pd.get_dummies(dataset,drop_first=True)"
   ]
  },
  {
   "cell_type": "code",
   "execution_count": null,
   "id": "d5d033e7",
   "metadata": {},
   "outputs": [],
   "source": [
    "dataset"
   ]
  },
  {
   "cell_type": "code",
   "execution_count": null,
   "id": "1a32bbb1",
   "metadata": {},
   "outputs": [],
   "source": [
    "dataset.columns"
   ]
  },
  {
   "cell_type": "code",
   "execution_count": null,
   "id": "62e26df3",
   "metadata": {},
   "outputs": [],
   "source": [
    "independent=dataset[['age', 'bmi', 'children','sex_male', 'smoker_yes']]\n",
    "independent"
   ]
  },
  {
   "cell_type": "code",
   "execution_count": null,
   "id": "189115c9",
   "metadata": {},
   "outputs": [],
   "source": [
    "dependent=dataset[[\"charges\"]]\n",
    "dependent"
   ]
  },
  {
   "cell_type": "code",
   "execution_count": null,
   "id": "946e22bc",
   "metadata": {},
   "outputs": [],
   "source": [
    "from sklearn.model_selection import train_test_split\n",
    "X_train,X_test,y_train,y_test=train_test_split(independent, dependent, test_size=0.30,random_state=0)"
   ]
  },
  {
   "cell_type": "code",
   "execution_count": null,
   "id": "909e626d",
   "metadata": {},
   "outputs": [],
   "source": [
    "from sklearn.tree import DecisionTreeRegressor\n",
    "regressor=DecisionTreeRegressor(criterion='poisson' , splitter= 'best')\n",
    "#regressor=DecisionTreeRegressor(criterion='poisson' , splitter= 'best', max_features='sqrt')\n",
    "regressor=DecisionTreeRegressor()\n",
    "regressor=regressor.fit(X_train,y_train)"
   ]
  },
  {
   "cell_type": "markdown",
   "id": "edaa49ba",
   "metadata": {},
   "source": [
    "import matplotlib.pyplot as plt\n",
    "from sklearn import tree\n",
    "tree.plot_tree(regressor)\n",
    "plt.show()"
   ]
  },
  {
   "cell_type": "code",
   "execution_count": null,
   "id": "38113568",
   "metadata": {},
   "outputs": [],
   "source": [
    "y_pred=regressor.predict(X_test)"
   ]
  },
  {
   "cell_type": "code",
   "execution_count": null,
   "id": "298fd698",
   "metadata": {},
   "outputs": [],
   "source": [
    "from sklearn.metrics import r2_score\n",
    "r_score=r2_score(y_test,y_pred)\n",
    "r_score"
   ]
  },
  {
   "cell_type": "markdown",
   "id": "cf3cbbd8",
   "metadata": {},
   "source": [
    "import pickle\n",
    "filename=\"finalized_model_Deci_Tree.sav\"\n",
    "pickle.dump(regressor,open(filename,'wb'))"
   ]
  },
  {
   "cell_type": "markdown",
   "id": "83dc1dba",
   "metadata": {},
   "source": [
    "loaded_model=pickle.load(open(\"finalized_model_Deci_Tree.sav\",'rb'))\n",
    "result=loaded_model.predict([[33,37,1,1,0]])"
   ]
  },
  {
   "cell_type": "markdown",
   "id": "ae867926",
   "metadata": {},
   "source": [
    "result"
   ]
  }
 ],
 "metadata": {
  "kernelspec": {
   "display_name": "Python 3 (ipykernel)",
   "language": "python",
   "name": "python3"
  },
  "language_info": {
   "codemirror_mode": {
    "name": "ipython",
    "version": 3
   },
   "file_extension": ".py",
   "mimetype": "text/x-python",
   "name": "python",
   "nbconvert_exporter": "python",
   "pygments_lexer": "ipython3",
   "version": "3.11.4"
  }
 },
 "nbformat": 4,
 "nbformat_minor": 5
}
