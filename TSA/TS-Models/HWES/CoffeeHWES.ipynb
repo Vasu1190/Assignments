{
 "cells": [
  {
   "cell_type": "code",
   "execution_count": 1,
   "id": "48173d86",
   "metadata": {},
   "outputs": [],
   "source": [
    "import pandas as pd\n",
    "import numpy as np"
   ]
  },
  {
   "cell_type": "code",
   "execution_count": 2,
   "id": "fc3f9a19",
   "metadata": {},
   "outputs": [
    {
     "name": "stdout",
     "output_type": "stream",
     "text": [
      "[*********************100%%**********************]  1 of 1 completed\n"
     ]
    }
   ],
   "source": [
    "from nsepy import get_history as gh\n",
    "import datetime as dt\n",
    "import yfinance as yf\n",
    "symbol='TATACOFFEE.NS'\n",
    "start = dt.datetime(2013,6,1)\n",
    "end = dt.datetime(2022,2,11)\n",
    "stk_data = yf.download(symbol, start=start, end=end)"
   ]
  },
  {
   "cell_type": "code",
   "execution_count": 3,
   "id": "f5e21aa3",
   "metadata": {},
   "outputs": [],
   "source": [
    "stk_data=stk_data[[\"Open\",\"High\",\"Low\",\"Close\"]]\n",
    "#stk_data.to_csv(\"Tatacoffee13_21.csv\")"
   ]
  },
  {
   "cell_type": "code",
   "execution_count": 4,
   "id": "7ad5ebcf",
   "metadata": {},
   "outputs": [
    {
     "name": "stdout",
     "output_type": "stream",
     "text": [
      "Len: (2144, 4)\n"
     ]
    }
   ],
   "source": [
    "from sklearn.preprocessing import MinMaxScaler\n",
    "Ms = MinMaxScaler()\n",
    "data1= Ms.fit_transform(stk_data)\n",
    "print(\"Len:\",data1.shape)"
   ]
  },
  {
   "cell_type": "code",
   "execution_count": 5,
   "id": "b2b41235",
   "metadata": {},
   "outputs": [],
   "source": [
    "data1=pd.DataFrame(data1,columns=[\"Open\",\"High\",\"Low\",\"Close\"])"
   ]
  },
  {
   "cell_type": "code",
   "execution_count": 6,
   "id": "79c8b1d5",
   "metadata": {},
   "outputs": [
    {
     "name": "stdout",
     "output_type": "stream",
     "text": [
      "1715\n",
      "X_train length: (1715, 4)\n",
      "X_test length: (429, 4)\n",
      "y_train length: (1715, 4)\n",
      "y_test length: (429, 4)\n"
     ]
    }
   ],
   "source": [
    "training_size = round(len(data1 ) * 0.80)\n",
    "print(training_size)\n",
    "X_train=data1[:training_size]\n",
    "X_test=data1[training_size:]\n",
    "print(\"X_train length:\",X_train.shape)\n",
    "print(\"X_test length:\",X_test.shape)\n",
    "y_train=data1[:training_size]\n",
    "y_test=data1[training_size:]\n",
    "print(\"y_train length:\",y_train.shape)\n",
    "print(\"y_test length:\",y_test.shape)"
   ]
  },
  {
   "cell_type": "code",
   "execution_count": 7,
   "id": "466d94f9",
   "metadata": {},
   "outputs": [],
   "source": [
    "import warnings\n",
    "warnings.filterwarnings(\"ignore\")"
   ]
  },
  {
   "cell_type": "code",
   "execution_count": 8,
   "id": "4df2eaa9",
   "metadata": {},
   "outputs": [],
   "source": [
    "performance={\"Model\":[],\"RMSE\":[],\"MaPe\":[],\"Lag\":[],\"Test\":[]}"
   ]
  },
  {
   "cell_type": "code",
   "execution_count": 9,
   "id": "933d417e",
   "metadata": {},
   "outputs": [],
   "source": [
    "def mean_absolute_percentage_error(y_true, y_pred):\n",
    "    y_true, y_pred = np.array(y_true), np.array(y_pred)\n",
    "    mask = y_true != 0\n",
    "    return np.mean(np.abs((y_true[mask] - y_pred[mask]) / y_true[mask])) * 100"
   ]
  },
  {
   "cell_type": "code",
   "execution_count": 10,
   "id": "c1554483",
   "metadata": {},
   "outputs": [],
   "source": [
    "from statsmodels.tsa.holtwinters import ExponentialSmoothing\n",
    "\n",
    "def holt_winters_exponential_smoothing(dataset, column_name, seasonal, seasonal_periods):\n",
    "    dataset_hwes = dataset[column_name]\n",
    "    test_obs_hwes = 28\n",
    "    train_hwes = dataset_hwes[:-test_obs_hwes]\n",
    "    test_hwes = dataset_hwes[-test_obs_hwes:]\n",
    "\n",
    "    model_hwes = ExponentialSmoothing(train_hwes, seasonal=seasonal, seasonal_periods=seasonal_periods)\n",
    "    results_hwes = model_hwes.fit()\n",
    "\n",
    "    # Forecasting\n",
    "    pred_hwes = results_hwes.forecast(steps=28)\n",
    "    pred_hwes.to_csv(\"hwes_forecasted_{}.csv\".format(test_obs_hwes))\n",
    "\n",
    "    # Evaluating performance\n",
    "    from sklearn.metrics import mean_squared_error, mean_absolute_error\n",
    "    rmse_hwes = round(mean_squared_error(test_hwes, pred_hwes, squared=False), 2)\n",
    "    mape_hwes = mean_absolute_percentage_error(test_hwes, pred_hwes)\n",
    "\n",
    "    performance[\"Model\"].append(\"HWES\")\n",
    "    performance[\"RMSE\"].append(rmse_hwes)\n",
    "    performance[\"MaPe\"].append(mape_hwes)\n",
    "    performance[\"Lag\"].append(None)\n",
    "    performance[\"Test\"].append(test_obs_hwes)\n",
    "\n",
    "    perf_hwes = pd.DataFrame(performance)\n",
    "    return perf_hwes, results_hwes, pred_hwes\n"
   ]
  },
  {
   "cell_type": "code",
   "execution_count": 11,
   "id": "790181e0",
   "metadata": {},
   "outputs": [],
   "source": [
    "column_hwes = \"Close\"\n",
    "seasonal_hwes = \"add\"  # Choosing \"add\" or \"multiplicative\" based on our data"
   ]
  },
  {
   "cell_type": "code",
   "execution_count": 12,
   "id": "62e5809a",
   "metadata": {},
   "outputs": [],
   "source": [
    "seasonal_periods_hwes = 7  # Setting this based on our data's seasonality\n",
    "perf_hwes, result_hwes, pred_hwes = holt_winters_exponential_smoothing(data1, column_hwes, seasonal_hwes, seasonal_periods_hwes)"
   ]
  },
  {
   "cell_type": "code",
   "execution_count": 13,
   "id": "1ca74337",
   "metadata": {},
   "outputs": [
    {
     "data": {
      "text/html": [
       "<div>\n",
       "<style scoped>\n",
       "    .dataframe tbody tr th:only-of-type {\n",
       "        vertical-align: middle;\n",
       "    }\n",
       "\n",
       "    .dataframe tbody tr th {\n",
       "        vertical-align: top;\n",
       "    }\n",
       "\n",
       "    .dataframe thead th {\n",
       "        text-align: right;\n",
       "    }\n",
       "</style>\n",
       "<table border=\"1\" class=\"dataframe\">\n",
       "  <thead>\n",
       "    <tr style=\"text-align: right;\">\n",
       "      <th></th>\n",
       "      <th>Open</th>\n",
       "      <th>High</th>\n",
       "      <th>Low</th>\n",
       "      <th>Close</th>\n",
       "    </tr>\n",
       "  </thead>\n",
       "  <tbody>\n",
       "    <tr>\n",
       "      <th>0</th>\n",
       "      <td>0.517223</td>\n",
       "      <td>0.485749</td>\n",
       "      <td>0.529877</td>\n",
       "      <td>0.522210</td>\n",
       "    </tr>\n",
       "    <tr>\n",
       "      <th>1</th>\n",
       "      <td>0.500522</td>\n",
       "      <td>0.491400</td>\n",
       "      <td>0.530969</td>\n",
       "      <td>0.519394</td>\n",
       "    </tr>\n",
       "    <tr>\n",
       "      <th>2</th>\n",
       "      <td>0.498434</td>\n",
       "      <td>0.472236</td>\n",
       "      <td>0.528786</td>\n",
       "      <td>0.517972</td>\n",
       "    </tr>\n",
       "    <tr>\n",
       "      <th>3</th>\n",
       "      <td>0.506785</td>\n",
       "      <td>0.472236</td>\n",
       "      <td>0.532251</td>\n",
       "      <td>0.520225</td>\n",
       "    </tr>\n",
       "    <tr>\n",
       "      <th>4</th>\n",
       "      <td>0.507411</td>\n",
       "      <td>0.479533</td>\n",
       "      <td>0.527149</td>\n",
       "      <td>0.513788</td>\n",
       "    </tr>\n",
       "    <tr>\n",
       "      <th>...</th>\n",
       "      <td>...</td>\n",
       "      <td>...</td>\n",
       "      <td>...</td>\n",
       "      <td>...</td>\n",
       "    </tr>\n",
       "    <tr>\n",
       "      <th>2139</th>\n",
       "      <td>0.877349</td>\n",
       "      <td>0.819410</td>\n",
       "      <td>0.900409</td>\n",
       "      <td>0.880633</td>\n",
       "    </tr>\n",
       "    <tr>\n",
       "      <th>2140</th>\n",
       "      <td>0.856733</td>\n",
       "      <td>0.807862</td>\n",
       "      <td>0.885130</td>\n",
       "      <td>0.870440</td>\n",
       "    </tr>\n",
       "    <tr>\n",
       "      <th>2141</th>\n",
       "      <td>0.848643</td>\n",
       "      <td>0.799017</td>\n",
       "      <td>0.873670</td>\n",
       "      <td>0.865612</td>\n",
       "    </tr>\n",
       "    <tr>\n",
       "      <th>2142</th>\n",
       "      <td>0.864301</td>\n",
       "      <td>0.810565</td>\n",
       "      <td>0.892224</td>\n",
       "      <td>0.873927</td>\n",
       "    </tr>\n",
       "    <tr>\n",
       "      <th>2143</th>\n",
       "      <td>0.864301</td>\n",
       "      <td>0.821130</td>\n",
       "      <td>0.894952</td>\n",
       "      <td>0.885998</td>\n",
       "    </tr>\n",
       "  </tbody>\n",
       "</table>\n",
       "<p>2144 rows × 4 columns</p>\n",
       "</div>"
      ],
      "text/plain": [
       "          Open      High       Low     Close\n",
       "0     0.517223  0.485749  0.529877  0.522210\n",
       "1     0.500522  0.491400  0.530969  0.519394\n",
       "2     0.498434  0.472236  0.528786  0.517972\n",
       "3     0.506785  0.472236  0.532251  0.520225\n",
       "4     0.507411  0.479533  0.527149  0.513788\n",
       "...        ...       ...       ...       ...\n",
       "2139  0.877349  0.819410  0.900409  0.880633\n",
       "2140  0.856733  0.807862  0.885130  0.870440\n",
       "2141  0.848643  0.799017  0.873670  0.865612\n",
       "2142  0.864301  0.810565  0.892224  0.873927\n",
       "2143  0.864301  0.821130  0.894952  0.885998\n",
       "\n",
       "[2144 rows x 4 columns]"
      ]
     },
     "execution_count": 13,
     "metadata": {},
     "output_type": "execute_result"
    }
   ],
   "source": [
    "data1"
   ]
  },
  {
   "cell_type": "code",
   "execution_count": 14,
   "id": "3294031a",
   "metadata": {},
   "outputs": [
    {
     "data": {
      "text/html": [
       "<div>\n",
       "<style scoped>\n",
       "    .dataframe tbody tr th:only-of-type {\n",
       "        vertical-align: middle;\n",
       "    }\n",
       "\n",
       "    .dataframe tbody tr th {\n",
       "        vertical-align: top;\n",
       "    }\n",
       "\n",
       "    .dataframe thead th {\n",
       "        text-align: right;\n",
       "    }\n",
       "</style>\n",
       "<table border=\"1\" class=\"dataframe\">\n",
       "  <thead>\n",
       "    <tr style=\"text-align: right;\">\n",
       "      <th></th>\n",
       "      <th>Model</th>\n",
       "      <th>RMSE</th>\n",
       "      <th>MaPe</th>\n",
       "      <th>Lag</th>\n",
       "      <th>Test</th>\n",
       "    </tr>\n",
       "  </thead>\n",
       "  <tbody>\n",
       "    <tr>\n",
       "      <th>0</th>\n",
       "      <td>HWES</td>\n",
       "      <td>0.02</td>\n",
       "      <td>1.976625</td>\n",
       "      <td>None</td>\n",
       "      <td>28</td>\n",
       "    </tr>\n",
       "  </tbody>\n",
       "</table>\n",
       "</div>"
      ],
      "text/plain": [
       "  Model  RMSE      MaPe   Lag  Test\n",
       "0  HWES  0.02  1.976625  None    28"
      ]
     },
     "execution_count": 14,
     "metadata": {},
     "output_type": "execute_result"
    }
   ],
   "source": [
    "perf_hwes"
   ]
  },
  {
   "cell_type": "code",
   "execution_count": null,
   "id": "a53203ab",
   "metadata": {},
   "outputs": [],
   "source": []
  },
  {
   "cell_type": "code",
   "execution_count": null,
   "id": "1a32370e",
   "metadata": {},
   "outputs": [],
   "source": [
    "#pip install --upgrade scikit-learn"
   ]
  },
  {
   "cell_type": "code",
   "execution_count": null,
   "id": "d4cd845e",
   "metadata": {},
   "outputs": [],
   "source": []
  },
  {
   "cell_type": "markdown",
   "id": "487bccd5",
   "metadata": {},
   "source": [
    "# Problems Encountered"
   ]
  },
  {
   "cell_type": "markdown",
   "id": "08a90bef",
   "metadata": {},
   "source": [
    "Codes created problems -     \n",
    "\n",
    "mape_hwes = mean_absolute_percentage_error(test_hwes, pred_hwes) &      perf_hwes, result_hwes, pred_hwes = holt_winters_exponential_smoothing(data1, column_hwes, seasonal_hwes, seasonal_periods_hwes)\n",
    "\n",
    "Reason : The mean_absolute_percentage_error function is not a part of scikit-learn in versions prior to 0.24.0, and its absence is causing the error. So implemented function for mean_absolute_percentage_error as below.\n",
    "\n",
    "def mean_absolute_percentage_error(y_true, y_pred):\n",
    "    y_true, y_pred = np.array(y_true), np.array(y_pred)\n",
    "    mask = y_true != 0\n",
    "    return np.mean(np.abs((y_true[mask] - y_pred[mask]) / y_true[mask])) * 100\n"
   ]
  },
  {
   "cell_type": "markdown",
   "id": "7bf3114c",
   "metadata": {},
   "source": []
  }
 ],
 "metadata": {
  "kernelspec": {
   "display_name": "Python 3 (ipykernel)",
   "language": "python",
   "name": "python3"
  },
  "language_info": {
   "codemirror_mode": {
    "name": "ipython",
    "version": 3
   },
   "file_extension": ".py",
   "mimetype": "text/x-python",
   "name": "python",
   "nbconvert_exporter": "python",
   "pygments_lexer": "ipython3",
   "version": "3.11.5"
  }
 },
 "nbformat": 4,
 "nbformat_minor": 5
}
