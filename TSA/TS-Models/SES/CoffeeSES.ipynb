{
 "cells": [
  {
   "cell_type": "code",
   "execution_count": 1,
   "id": "48173d86",
   "metadata": {},
   "outputs": [],
   "source": [
    "import pandas as pd"
   ]
  },
  {
   "cell_type": "code",
   "execution_count": 2,
   "id": "fc3f9a19",
   "metadata": {},
   "outputs": [
    {
     "name": "stdout",
     "output_type": "stream",
     "text": [
      "[*********************100%%**********************]  1 of 1 completed\n"
     ]
    }
   ],
   "source": [
    "from nsepy import get_history as gh\n",
    "import datetime as dt\n",
    "import yfinance as yf\n",
    "symbol='TATACOFFEE.NS'\n",
    "start = dt.datetime(2013,6,1)\n",
    "end = dt.datetime(2022,2,11)\n",
    "stk_data = yf.download(symbol, start=start, end=end)"
   ]
  },
  {
   "cell_type": "code",
   "execution_count": 3,
   "id": "f5e21aa3",
   "metadata": {},
   "outputs": [],
   "source": [
    "stk_data=stk_data[[\"Open\",\"High\",\"Low\",\"Close\"]]\n",
    "#stk_data.to_csv(\"Tatacoffee13_21.csv\")"
   ]
  },
  {
   "cell_type": "code",
   "execution_count": 4,
   "id": "7ad5ebcf",
   "metadata": {},
   "outputs": [
    {
     "name": "stdout",
     "output_type": "stream",
     "text": [
      "Len: (2144, 4)\n"
     ]
    }
   ],
   "source": [
    "from sklearn.preprocessing import MinMaxScaler\n",
    "Ms = MinMaxScaler()\n",
    "data1= Ms.fit_transform(stk_data)\n",
    "print(\"Len:\",data1.shape)"
   ]
  },
  {
   "cell_type": "code",
   "execution_count": 5,
   "id": "b2b41235",
   "metadata": {},
   "outputs": [],
   "source": [
    "data1=pd.DataFrame(data1,columns=[\"Open\",\"High\",\"Low\",\"Close\"])"
   ]
  },
  {
   "cell_type": "code",
   "execution_count": 6,
   "id": "79c8b1d5",
   "metadata": {},
   "outputs": [
    {
     "name": "stdout",
     "output_type": "stream",
     "text": [
      "1715\n",
      "X_train length: (1715, 4)\n",
      "X_test length: (429, 4)\n",
      "y_train length: (1715, 4)\n",
      "y_test length: (429, 4)\n"
     ]
    }
   ],
   "source": [
    "training_size = round(len(data1 ) * 0.80)\n",
    "print(training_size)\n",
    "X_train=data1[:training_size]\n",
    "X_test=data1[training_size:]\n",
    "print(\"X_train length:\",X_train.shape)\n",
    "print(\"X_test length:\",X_test.shape)\n",
    "y_train=data1[:training_size]\n",
    "y_test=data1[training_size:]\n",
    "print(\"y_train length:\",y_train.shape)\n",
    "print(\"y_test length:\",y_test.shape)"
   ]
  },
  {
   "cell_type": "code",
   "execution_count": 7,
   "id": "466d94f9",
   "metadata": {},
   "outputs": [],
   "source": [
    "import warnings\n",
    "warnings.filterwarnings(\"ignore\")"
   ]
  },
  {
   "cell_type": "code",
   "execution_count": 8,
   "id": "4df2eaa9",
   "metadata": {},
   "outputs": [],
   "source": [
    "performance={\"Model\":[],\"RMSE\":[],\"MaPe\":[],\"Lag\":[],\"Test\":[]}"
   ]
  },
  {
   "cell_type": "code",
   "execution_count": 9,
   "id": "4195352a",
   "metadata": {},
   "outputs": [],
   "source": [
    "from statsmodels.tsa.holtwinters import SimpleExpSmoothing\n",
    "\n",
    "def simple_exponential_smoothing(dataset, column_name):\n",
    "    dataset_seas = dataset[column_name]\n",
    "    test_obs_seas = 28\n",
    "    train_seas = dataset_seas[:-test_obs_seas]\n",
    "    test_seas = dataset_seas[-test_obs_seas:]\n",
    "\n",
    "    model_seas = SimpleExpSmoothing(train_seas)\n",
    "    results_seas = model_seas.fit()\n",
    "\n",
    "    # Forecasting\n",
    "    pred_seas = results_seas.forecast(steps=28)\n",
    "    pred_seas.to_csv(\"ses_forecasted_{}.csv\".format(test_obs_seas))\n",
    "\n",
    "    # Evaluating performance\n",
    "    from sklearn.metrics import mean_squared_error\n",
    "    rmse_seas = round(mean_squared_error(test_seas, pred_seas, squared=False), 2)\n",
    "    from sklearn.metrics import mean_absolute_percentage_error\n",
    "    mape_seas = mean_absolute_percentage_error(test_seas, pred_seas)\n",
    "\n",
    "    performance[\"Model\"].append(\"SES\")\n",
    "    performance[\"RMSE\"].append(rmse_seas)\n",
    "    performance[\"MaPe\"].append(mape_seas)\n",
    "    performance[\"Lag\"].append(None)\n",
    "    performance[\"Test\"].append(test_obs_seas)\n",
    "\n",
    "    perf_seas = pd.DataFrame(performance)\n",
    "    return perf_seas, results_seas, pred_seas"
   ]
  },
  {
   "cell_type": "code",
   "execution_count": 10,
   "id": "3b6caee0",
   "metadata": {},
   "outputs": [],
   "source": [
    "column_seas = \"Close\"\n",
    "perf_seas, result_seas, pred_seas = simple_exponential_smoothing(data1, column_seas)"
   ]
  },
  {
   "cell_type": "code",
   "execution_count": 11,
   "id": "43375522",
   "metadata": {},
   "outputs": [
    {
     "data": {
      "text/html": [
       "<div>\n",
       "<style scoped>\n",
       "    .dataframe tbody tr th:only-of-type {\n",
       "        vertical-align: middle;\n",
       "    }\n",
       "\n",
       "    .dataframe tbody tr th {\n",
       "        vertical-align: top;\n",
       "    }\n",
       "\n",
       "    .dataframe thead th {\n",
       "        text-align: right;\n",
       "    }\n",
       "</style>\n",
       "<table border=\"1\" class=\"dataframe\">\n",
       "  <thead>\n",
       "    <tr style=\"text-align: right;\">\n",
       "      <th></th>\n",
       "      <th>Open</th>\n",
       "      <th>High</th>\n",
       "      <th>Low</th>\n",
       "      <th>Close</th>\n",
       "    </tr>\n",
       "  </thead>\n",
       "  <tbody>\n",
       "    <tr>\n",
       "      <th>0</th>\n",
       "      <td>0.517223</td>\n",
       "      <td>0.485749</td>\n",
       "      <td>0.529877</td>\n",
       "      <td>0.522210</td>\n",
       "    </tr>\n",
       "    <tr>\n",
       "      <th>1</th>\n",
       "      <td>0.500522</td>\n",
       "      <td>0.491400</td>\n",
       "      <td>0.530969</td>\n",
       "      <td>0.519394</td>\n",
       "    </tr>\n",
       "    <tr>\n",
       "      <th>2</th>\n",
       "      <td>0.498434</td>\n",
       "      <td>0.472236</td>\n",
       "      <td>0.528786</td>\n",
       "      <td>0.517972</td>\n",
       "    </tr>\n",
       "    <tr>\n",
       "      <th>3</th>\n",
       "      <td>0.506785</td>\n",
       "      <td>0.472236</td>\n",
       "      <td>0.532251</td>\n",
       "      <td>0.520225</td>\n",
       "    </tr>\n",
       "    <tr>\n",
       "      <th>4</th>\n",
       "      <td>0.507411</td>\n",
       "      <td>0.479533</td>\n",
       "      <td>0.527149</td>\n",
       "      <td>0.513788</td>\n",
       "    </tr>\n",
       "    <tr>\n",
       "      <th>...</th>\n",
       "      <td>...</td>\n",
       "      <td>...</td>\n",
       "      <td>...</td>\n",
       "      <td>...</td>\n",
       "    </tr>\n",
       "    <tr>\n",
       "      <th>2139</th>\n",
       "      <td>0.877349</td>\n",
       "      <td>0.819410</td>\n",
       "      <td>0.900409</td>\n",
       "      <td>0.880633</td>\n",
       "    </tr>\n",
       "    <tr>\n",
       "      <th>2140</th>\n",
       "      <td>0.856733</td>\n",
       "      <td>0.807862</td>\n",
       "      <td>0.885130</td>\n",
       "      <td>0.870440</td>\n",
       "    </tr>\n",
       "    <tr>\n",
       "      <th>2141</th>\n",
       "      <td>0.848643</td>\n",
       "      <td>0.799017</td>\n",
       "      <td>0.873670</td>\n",
       "      <td>0.865612</td>\n",
       "    </tr>\n",
       "    <tr>\n",
       "      <th>2142</th>\n",
       "      <td>0.864301</td>\n",
       "      <td>0.810565</td>\n",
       "      <td>0.892224</td>\n",
       "      <td>0.873927</td>\n",
       "    </tr>\n",
       "    <tr>\n",
       "      <th>2143</th>\n",
       "      <td>0.864301</td>\n",
       "      <td>0.821130</td>\n",
       "      <td>0.894952</td>\n",
       "      <td>0.885998</td>\n",
       "    </tr>\n",
       "  </tbody>\n",
       "</table>\n",
       "<p>2144 rows × 4 columns</p>\n",
       "</div>"
      ],
      "text/plain": [
       "          Open      High       Low     Close\n",
       "0     0.517223  0.485749  0.529877  0.522210\n",
       "1     0.500522  0.491400  0.530969  0.519394\n",
       "2     0.498434  0.472236  0.528786  0.517972\n",
       "3     0.506785  0.472236  0.532251  0.520225\n",
       "4     0.507411  0.479533  0.527149  0.513788\n",
       "...        ...       ...       ...       ...\n",
       "2139  0.877349  0.819410  0.900409  0.880633\n",
       "2140  0.856733  0.807862  0.885130  0.870440\n",
       "2141  0.848643  0.799017  0.873670  0.865612\n",
       "2142  0.864301  0.810565  0.892224  0.873927\n",
       "2143  0.864301  0.821130  0.894952  0.885998\n",
       "\n",
       "[2144 rows x 4 columns]"
      ]
     },
     "execution_count": 11,
     "metadata": {},
     "output_type": "execute_result"
    }
   ],
   "source": [
    "data1"
   ]
  },
  {
   "cell_type": "code",
   "execution_count": 12,
   "id": "1ec452de",
   "metadata": {},
   "outputs": [
    {
     "data": {
      "text/html": [
       "<div>\n",
       "<style scoped>\n",
       "    .dataframe tbody tr th:only-of-type {\n",
       "        vertical-align: middle;\n",
       "    }\n",
       "\n",
       "    .dataframe tbody tr th {\n",
       "        vertical-align: top;\n",
       "    }\n",
       "\n",
       "    .dataframe thead th {\n",
       "        text-align: right;\n",
       "    }\n",
       "</style>\n",
       "<table border=\"1\" class=\"dataframe\">\n",
       "  <thead>\n",
       "    <tr style=\"text-align: right;\">\n",
       "      <th></th>\n",
       "      <th>Model</th>\n",
       "      <th>RMSE</th>\n",
       "      <th>MaPe</th>\n",
       "      <th>Lag</th>\n",
       "      <th>Test</th>\n",
       "    </tr>\n",
       "  </thead>\n",
       "  <tbody>\n",
       "    <tr>\n",
       "      <th>0</th>\n",
       "      <td>SES</td>\n",
       "      <td>0.02</td>\n",
       "      <td>0.01978</td>\n",
       "      <td>None</td>\n",
       "      <td>28</td>\n",
       "    </tr>\n",
       "  </tbody>\n",
       "</table>\n",
       "</div>"
      ],
      "text/plain": [
       "  Model  RMSE     MaPe   Lag  Test\n",
       "0   SES  0.02  0.01978  None    28"
      ]
     },
     "execution_count": 12,
     "metadata": {},
     "output_type": "execute_result"
    }
   ],
   "source": [
    "perf_seas"
   ]
  },
  {
   "cell_type": "code",
   "execution_count": null,
   "id": "1a32370e",
   "metadata": {},
   "outputs": [],
   "source": []
  },
  {
   "cell_type": "code",
   "execution_count": null,
   "id": "a53203ab",
   "metadata": {},
   "outputs": [],
   "source": []
  }
 ],
 "metadata": {
  "kernelspec": {
   "display_name": "Python 3 (ipykernel)",
   "language": "python",
   "name": "python3"
  },
  "language_info": {
   "codemirror_mode": {
    "name": "ipython",
    "version": 3
   },
   "file_extension": ".py",
   "mimetype": "text/x-python",
   "name": "python",
   "nbconvert_exporter": "python",
   "pygments_lexer": "ipython3",
   "version": "3.11.5"
  }
 },
 "nbformat": 4,
 "nbformat_minor": 5
}
