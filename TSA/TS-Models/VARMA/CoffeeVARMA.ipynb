{
 "cells": [
  {
   "cell_type": "code",
   "execution_count": 1,
   "id": "48173d86",
   "metadata": {},
   "outputs": [],
   "source": [
    "import pandas as pd"
   ]
  },
  {
   "cell_type": "code",
   "execution_count": 2,
   "id": "fc3f9a19",
   "metadata": {},
   "outputs": [
    {
     "name": "stdout",
     "output_type": "stream",
     "text": [
      "[*********************100%%**********************]  1 of 1 completed\n"
     ]
    }
   ],
   "source": [
    "from nsepy import get_history as gh\n",
    "import datetime as dt\n",
    "import yfinance as yf\n",
    "symbol='TATACOFFEE.NS'\n",
    "start = dt.datetime(2013,6,1)\n",
    "end = dt.datetime(2022,2,11)\n",
    "stk_data = yf.download(symbol, start=start, end=end)"
   ]
  },
  {
   "cell_type": "code",
   "execution_count": 3,
   "id": "f5e21aa3",
   "metadata": {},
   "outputs": [],
   "source": [
    "stk_data=stk_data[[\"Open\",\"High\",\"Low\",\"Close\"]]\n",
    "#stk_data.to_csv(\"Tatacoffee13_21.csv\")"
   ]
  },
  {
   "cell_type": "code",
   "execution_count": 4,
   "id": "7ad5ebcf",
   "metadata": {},
   "outputs": [
    {
     "name": "stdout",
     "output_type": "stream",
     "text": [
      "Len: (2144, 4)\n"
     ]
    },
    {
     "name": "stderr",
     "output_type": "stream",
     "text": [
      "/Users/viswanathanmuthu/anaconda3/envs/AIVE_Course/lib/python3.11/site-packages/sklearn/utils/validation.py:767: FutureWarning: is_sparse is deprecated and will be removed in a future version. Check `isinstance(dtype, pd.SparseDtype)` instead.\n",
      "  if not hasattr(array, \"sparse\") and array.dtypes.apply(is_sparse).any():\n",
      "/Users/viswanathanmuthu/anaconda3/envs/AIVE_Course/lib/python3.11/site-packages/sklearn/utils/validation.py:605: FutureWarning: is_sparse is deprecated and will be removed in a future version. Check `isinstance(dtype, pd.SparseDtype)` instead.\n",
      "  if is_sparse(pd_dtype):\n",
      "/Users/viswanathanmuthu/anaconda3/envs/AIVE_Course/lib/python3.11/site-packages/sklearn/utils/validation.py:614: FutureWarning: is_sparse is deprecated and will be removed in a future version. Check `isinstance(dtype, pd.SparseDtype)` instead.\n",
      "  if is_sparse(pd_dtype) or not is_extension_array_dtype(pd_dtype):\n",
      "/Users/viswanathanmuthu/anaconda3/envs/AIVE_Course/lib/python3.11/site-packages/sklearn/utils/validation.py:767: FutureWarning: is_sparse is deprecated and will be removed in a future version. Check `isinstance(dtype, pd.SparseDtype)` instead.\n",
      "  if not hasattr(array, \"sparse\") and array.dtypes.apply(is_sparse).any():\n",
      "/Users/viswanathanmuthu/anaconda3/envs/AIVE_Course/lib/python3.11/site-packages/sklearn/utils/validation.py:605: FutureWarning: is_sparse is deprecated and will be removed in a future version. Check `isinstance(dtype, pd.SparseDtype)` instead.\n",
      "  if is_sparse(pd_dtype):\n",
      "/Users/viswanathanmuthu/anaconda3/envs/AIVE_Course/lib/python3.11/site-packages/sklearn/utils/validation.py:614: FutureWarning: is_sparse is deprecated and will be removed in a future version. Check `isinstance(dtype, pd.SparseDtype)` instead.\n",
      "  if is_sparse(pd_dtype) or not is_extension_array_dtype(pd_dtype):\n"
     ]
    }
   ],
   "source": [
    "from sklearn.preprocessing import MinMaxScaler\n",
    "Ms = MinMaxScaler()\n",
    "data1= Ms.fit_transform(stk_data)\n",
    "print(\"Len:\",data1.shape)"
   ]
  },
  {
   "cell_type": "code",
   "execution_count": 5,
   "id": "b2b41235",
   "metadata": {},
   "outputs": [],
   "source": [
    "data1=pd.DataFrame(data1,columns=[\"Open\",\"High\",\"Low\",\"Close\"])"
   ]
  },
  {
   "cell_type": "code",
   "execution_count": 6,
   "id": "79c8b1d5",
   "metadata": {},
   "outputs": [
    {
     "name": "stdout",
     "output_type": "stream",
     "text": [
      "1715\n",
      "X_train length: (1715, 4)\n",
      "X_test length: (429, 4)\n",
      "y_train length: (1715, 4)\n",
      "y_test length: (429, 4)\n"
     ]
    }
   ],
   "source": [
    "training_size = round(len(data1 ) * 0.80)\n",
    "print(training_size)\n",
    "X_train=data1[:training_size]\n",
    "X_test=data1[training_size:]\n",
    "print(\"X_train length:\",X_train.shape)\n",
    "print(\"X_test length:\",X_test.shape)\n",
    "y_train=data1[:training_size]\n",
    "y_test=data1[training_size:]\n",
    "print(\"y_train length:\",y_train.shape)\n",
    "print(\"y_test length:\",y_test.shape)"
   ]
  },
  {
   "cell_type": "code",
   "execution_count": 7,
   "id": "466d94f9",
   "metadata": {},
   "outputs": [],
   "source": [
    "import warnings\n",
    "warnings.filterwarnings(\"ignore\")"
   ]
  },
  {
   "cell_type": "code",
   "execution_count": 8,
   "id": "4df2eaa9",
   "metadata": {},
   "outputs": [],
   "source": [
    "performance={\"Model\":[],\"RMSE\":[],\"MaPe\":[],\"Lag\":[],\"Test\":[]}"
   ]
  },
  {
   "cell_type": "code",
   "execution_count": 9,
   "id": "a53203ab",
   "metadata": {},
   "outputs": [],
   "source": [
    "from statsmodels.tsa.statespace.varmax import VARMAX\n",
    "\n",
    "def varma_model(dataset, listt):\n",
    "    print(listt)\n",
    "    dataset_two = dataset[listt]\n",
    "    test_obs = 28\n",
    "    train = dataset_two[:-test_obs]\n",
    "    test = dataset_two[-test_obs:]\n",
    "\n",
    "    # Finding optimal order (p, q) for VARMA\n",
    "    best_aic = float('inf')\n",
    "    best_order = (0, 0)\n",
    "\n",
    "    for p in range(1, 4):  # Adjusting the range based on our data\n",
    "        for q in range(1, 4):  # Adjusting the range based on our data\n",
    "            try:\n",
    "                model = VARMAX(train, order=(p, q))\n",
    "                results = model.fit(maxiter=1000, disp=False)\n",
    "                if results.aic < best_aic:\n",
    "                    best_aic = results.aic\n",
    "                    best_order = (p, q)\n",
    "            except:\n",
    "                continue\n",
    "\n",
    "    print('Best Order (p, q):', best_order)\n",
    "    model_varma = VARMAX(train, order=best_order)\n",
    "    results_varma = model_varma.fit(maxiter=1000, disp=False)\n",
    "\n",
    "    # Forecasting\n",
    "    pred_varma = results_varma.get_forecast(steps=28).predicted_mean\n",
    "    pred_varma.to_csv(\"varma_forecasted_{}.csv\".format(test_obs))\n",
    "\n",
    "    # Evaluating performance\n",
    "    from sklearn.metrics import mean_squared_error\n",
    "    rmse_varma = round(mean_squared_error(test, pred_varma, squared=False), 2)\n",
    "    from sklearn.metrics import mean_absolute_percentage_error\n",
    "    mape_varma = mean_absolute_percentage_error(test, pred_varma)\n",
    "\n",
    "    performance[\"Model\"].append(\"VARMA\")\n",
    "    performance[\"RMSE\"].append(rmse_varma)\n",
    "    performance[\"MaPe\"].append(mape_varma)\n",
    "    performance[\"Lag\"].append(best_order)\n",
    "    performance[\"Test\"].append(test_obs)\n",
    "\n",
    "    perf_varma = pd.DataFrame(performance)\n",
    "    return perf_varma, results_varma, pred_varma"
   ]
  },
  {
   "cell_type": "code",
   "execution_count": 10,
   "id": "794716ba",
   "metadata": {},
   "outputs": [],
   "source": [
    "listt_varma = [\"Close\", \"High\", \"Open\", \"Low\"]"
   ]
  },
  {
   "cell_type": "code",
   "execution_count": 11,
   "id": "6d60df43",
   "metadata": {},
   "outputs": [
    {
     "name": "stderr",
     "output_type": "stream",
     "text": [
      "/Users/viswanathanmuthu/anaconda3/envs/AIVE_Course/lib/python3.11/site-packages/statsmodels/tsa/statespace/varmax.py:161: EstimationWarning: Estimation of VARMA(p,q) models is not generically robust, due especially to identification issues.\n",
      "  warn('Estimation of VARMA(p,q) models is not generically robust,'\n"
     ]
    },
    {
     "name": "stdout",
     "output_type": "stream",
     "text": [
      "['Close', 'High', 'Open', 'Low']\n"
     ]
    },
    {
     "name": "stderr",
     "output_type": "stream",
     "text": [
      "/Users/viswanathanmuthu/anaconda3/envs/AIVE_Course/lib/python3.11/site-packages/statsmodels/base/model.py:607: ConvergenceWarning: Maximum Likelihood optimization failed to converge. Check mle_retvals\n",
      "  warnings.warn(\"Maximum Likelihood optimization failed to \"\n",
      "/Users/viswanathanmuthu/anaconda3/envs/AIVE_Course/lib/python3.11/site-packages/statsmodels/tsa/statespace/varmax.py:161: EstimationWarning: Estimation of VARMA(p,q) models is not generically robust, due especially to identification issues.\n",
      "  warn('Estimation of VARMA(p,q) models is not generically robust,'\n",
      "/Users/viswanathanmuthu/anaconda3/envs/AIVE_Course/lib/python3.11/site-packages/statsmodels/tsa/statespace/varmax.py:161: EstimationWarning: Estimation of VARMA(p,q) models is not generically robust, due especially to identification issues.\n",
      "  warn('Estimation of VARMA(p,q) models is not generically robust,'\n",
      "/Users/viswanathanmuthu/anaconda3/envs/AIVE_Course/lib/python3.11/site-packages/statsmodels/base/model.py:607: ConvergenceWarning: Maximum Likelihood optimization failed to converge. Check mle_retvals\n",
      "  warnings.warn(\"Maximum Likelihood optimization failed to \"\n",
      "/Users/viswanathanmuthu/anaconda3/envs/AIVE_Course/lib/python3.11/site-packages/statsmodels/tsa/statespace/varmax.py:161: EstimationWarning: Estimation of VARMA(p,q) models is not generically robust, due especially to identification issues.\n",
      "  warn('Estimation of VARMA(p,q) models is not generically robust,'\n",
      "/Users/viswanathanmuthu/anaconda3/envs/AIVE_Course/lib/python3.11/site-packages/statsmodels/base/model.py:607: ConvergenceWarning: Maximum Likelihood optimization failed to converge. Check mle_retvals\n",
      "  warnings.warn(\"Maximum Likelihood optimization failed to \"\n",
      "/Users/viswanathanmuthu/anaconda3/envs/AIVE_Course/lib/python3.11/site-packages/statsmodels/tsa/statespace/varmax.py:161: EstimationWarning: Estimation of VARMA(p,q) models is not generically robust, due especially to identification issues.\n",
      "  warn('Estimation of VARMA(p,q) models is not generically robust,'\n",
      "/Users/viswanathanmuthu/anaconda3/envs/AIVE_Course/lib/python3.11/site-packages/statsmodels/tsa/statespace/varmax.py:161: EstimationWarning: Estimation of VARMA(p,q) models is not generically robust, due especially to identification issues.\n",
      "  warn('Estimation of VARMA(p,q) models is not generically robust,'\n",
      "/Users/viswanathanmuthu/anaconda3/envs/AIVE_Course/lib/python3.11/site-packages/statsmodels/tsa/statespace/varmax.py:161: EstimationWarning: Estimation of VARMA(p,q) models is not generically robust, due especially to identification issues.\n",
      "  warn('Estimation of VARMA(p,q) models is not generically robust,'\n",
      "/Users/viswanathanmuthu/anaconda3/envs/AIVE_Course/lib/python3.11/site-packages/statsmodels/tsa/statespace/varmax.py:161: EstimationWarning: Estimation of VARMA(p,q) models is not generically robust, due especially to identification issues.\n",
      "  warn('Estimation of VARMA(p,q) models is not generically robust,'\n",
      "/Users/viswanathanmuthu/anaconda3/envs/AIVE_Course/lib/python3.11/site-packages/statsmodels/base/model.py:607: ConvergenceWarning: Maximum Likelihood optimization failed to converge. Check mle_retvals\n",
      "  warnings.warn(\"Maximum Likelihood optimization failed to \"\n",
      "/Users/viswanathanmuthu/anaconda3/envs/AIVE_Course/lib/python3.11/site-packages/statsmodels/tsa/statespace/varmax.py:161: EstimationWarning: Estimation of VARMA(p,q) models is not generically robust, due especially to identification issues.\n",
      "  warn('Estimation of VARMA(p,q) models is not generically robust,'\n",
      "/Users/viswanathanmuthu/anaconda3/envs/AIVE_Course/lib/python3.11/site-packages/statsmodels/base/model.py:607: ConvergenceWarning: Maximum Likelihood optimization failed to converge. Check mle_retvals\n",
      "  warnings.warn(\"Maximum Likelihood optimization failed to \"\n"
     ]
    },
    {
     "name": "stdout",
     "output_type": "stream",
     "text": [
      "Best Order (p, q): (3, 1)\n"
     ]
    },
    {
     "name": "stderr",
     "output_type": "stream",
     "text": [
      "/Users/viswanathanmuthu/anaconda3/envs/AIVE_Course/lib/python3.11/site-packages/statsmodels/tsa/statespace/varmax.py:161: EstimationWarning: Estimation of VARMA(p,q) models is not generically robust, due especially to identification issues.\n",
      "  warn('Estimation of VARMA(p,q) models is not generically robust,'\n"
     ]
    }
   ],
   "source": [
    "perf_varma, result_varma, pred_varma = varma_model(data1, listt_varma)"
   ]
  },
  {
   "cell_type": "code",
   "execution_count": 12,
   "id": "6213704a",
   "metadata": {},
   "outputs": [
    {
     "name": "stdout",
     "output_type": "stream",
     "text": [
      "   Model  RMSE      MaPe     Lag  Test\n",
      "0  VARMA  0.03  0.030552  (3, 1)    28\n"
     ]
    }
   ],
   "source": [
    "print(perf_varma)"
   ]
  },
  {
   "cell_type": "code",
   "execution_count": 13,
   "id": "e6abd947",
   "metadata": {},
   "outputs": [
    {
     "data": {
      "text/html": [
       "<div>\n",
       "<style scoped>\n",
       "    .dataframe tbody tr th:only-of-type {\n",
       "        vertical-align: middle;\n",
       "    }\n",
       "\n",
       "    .dataframe tbody tr th {\n",
       "        vertical-align: top;\n",
       "    }\n",
       "\n",
       "    .dataframe thead th {\n",
       "        text-align: right;\n",
       "    }\n",
       "</style>\n",
       "<table border=\"1\" class=\"dataframe\">\n",
       "  <thead>\n",
       "    <tr style=\"text-align: right;\">\n",
       "      <th></th>\n",
       "      <th>Open</th>\n",
       "      <th>High</th>\n",
       "      <th>Low</th>\n",
       "      <th>Close</th>\n",
       "    </tr>\n",
       "  </thead>\n",
       "  <tbody>\n",
       "    <tr>\n",
       "      <th>0</th>\n",
       "      <td>0.517223</td>\n",
       "      <td>0.485749</td>\n",
       "      <td>0.529877</td>\n",
       "      <td>0.522210</td>\n",
       "    </tr>\n",
       "    <tr>\n",
       "      <th>1</th>\n",
       "      <td>0.500522</td>\n",
       "      <td>0.491400</td>\n",
       "      <td>0.530969</td>\n",
       "      <td>0.519394</td>\n",
       "    </tr>\n",
       "    <tr>\n",
       "      <th>2</th>\n",
       "      <td>0.498434</td>\n",
       "      <td>0.472236</td>\n",
       "      <td>0.528786</td>\n",
       "      <td>0.517972</td>\n",
       "    </tr>\n",
       "    <tr>\n",
       "      <th>3</th>\n",
       "      <td>0.506785</td>\n",
       "      <td>0.472236</td>\n",
       "      <td>0.532251</td>\n",
       "      <td>0.520225</td>\n",
       "    </tr>\n",
       "    <tr>\n",
       "      <th>4</th>\n",
       "      <td>0.507411</td>\n",
       "      <td>0.479533</td>\n",
       "      <td>0.527149</td>\n",
       "      <td>0.513788</td>\n",
       "    </tr>\n",
       "    <tr>\n",
       "      <th>...</th>\n",
       "      <td>...</td>\n",
       "      <td>...</td>\n",
       "      <td>...</td>\n",
       "      <td>...</td>\n",
       "    </tr>\n",
       "    <tr>\n",
       "      <th>2139</th>\n",
       "      <td>0.877349</td>\n",
       "      <td>0.819410</td>\n",
       "      <td>0.900409</td>\n",
       "      <td>0.880633</td>\n",
       "    </tr>\n",
       "    <tr>\n",
       "      <th>2140</th>\n",
       "      <td>0.856733</td>\n",
       "      <td>0.807862</td>\n",
       "      <td>0.885130</td>\n",
       "      <td>0.870440</td>\n",
       "    </tr>\n",
       "    <tr>\n",
       "      <th>2141</th>\n",
       "      <td>0.848643</td>\n",
       "      <td>0.799017</td>\n",
       "      <td>0.873670</td>\n",
       "      <td>0.865612</td>\n",
       "    </tr>\n",
       "    <tr>\n",
       "      <th>2142</th>\n",
       "      <td>0.864301</td>\n",
       "      <td>0.810565</td>\n",
       "      <td>0.892224</td>\n",
       "      <td>0.873927</td>\n",
       "    </tr>\n",
       "    <tr>\n",
       "      <th>2143</th>\n",
       "      <td>0.864301</td>\n",
       "      <td>0.821130</td>\n",
       "      <td>0.894952</td>\n",
       "      <td>0.885998</td>\n",
       "    </tr>\n",
       "  </tbody>\n",
       "</table>\n",
       "<p>2144 rows × 4 columns</p>\n",
       "</div>"
      ],
      "text/plain": [
       "          Open      High       Low     Close\n",
       "0     0.517223  0.485749  0.529877  0.522210\n",
       "1     0.500522  0.491400  0.530969  0.519394\n",
       "2     0.498434  0.472236  0.528786  0.517972\n",
       "3     0.506785  0.472236  0.532251  0.520225\n",
       "4     0.507411  0.479533  0.527149  0.513788\n",
       "...        ...       ...       ...       ...\n",
       "2139  0.877349  0.819410  0.900409  0.880633\n",
       "2140  0.856733  0.807862  0.885130  0.870440\n",
       "2141  0.848643  0.799017  0.873670  0.865612\n",
       "2142  0.864301  0.810565  0.892224  0.873927\n",
       "2143  0.864301  0.821130  0.894952  0.885998\n",
       "\n",
       "[2144 rows x 4 columns]"
      ]
     },
     "execution_count": 13,
     "metadata": {},
     "output_type": "execute_result"
    }
   ],
   "source": [
    "data1"
   ]
  },
  {
   "cell_type": "code",
   "execution_count": 15,
   "id": "06f9c278",
   "metadata": {},
   "outputs": [
    {
     "data": {
      "text/html": [
       "<div>\n",
       "<style scoped>\n",
       "    .dataframe tbody tr th:only-of-type {\n",
       "        vertical-align: middle;\n",
       "    }\n",
       "\n",
       "    .dataframe tbody tr th {\n",
       "        vertical-align: top;\n",
       "    }\n",
       "\n",
       "    .dataframe thead th {\n",
       "        text-align: right;\n",
       "    }\n",
       "</style>\n",
       "<table border=\"1\" class=\"dataframe\">\n",
       "  <thead>\n",
       "    <tr style=\"text-align: right;\">\n",
       "      <th></th>\n",
       "      <th>Model</th>\n",
       "      <th>RMSE</th>\n",
       "      <th>MaPe</th>\n",
       "      <th>Lag</th>\n",
       "      <th>Test</th>\n",
       "    </tr>\n",
       "  </thead>\n",
       "  <tbody>\n",
       "    <tr>\n",
       "      <th>0</th>\n",
       "      <td>VARMA</td>\n",
       "      <td>0.03</td>\n",
       "      <td>0.030552</td>\n",
       "      <td>(3, 1)</td>\n",
       "      <td>28</td>\n",
       "    </tr>\n",
       "  </tbody>\n",
       "</table>\n",
       "</div>"
      ],
      "text/plain": [
       "   Model  RMSE      MaPe     Lag  Test\n",
       "0  VARMA  0.03  0.030552  (3, 1)    28"
      ]
     },
     "execution_count": 15,
     "metadata": {},
     "output_type": "execute_result"
    }
   ],
   "source": [
    "perf_varma"
   ]
  },
  {
   "cell_type": "code",
   "execution_count": null,
   "id": "f8584448",
   "metadata": {},
   "outputs": [],
   "source": []
  }
 ],
 "metadata": {
  "kernelspec": {
   "display_name": "Python 3 (ipykernel)",
   "language": "python",
   "name": "python3"
  },
  "language_info": {
   "codemirror_mode": {
    "name": "ipython",
    "version": 3
   },
   "file_extension": ".py",
   "mimetype": "text/x-python",
   "name": "python",
   "nbconvert_exporter": "python",
   "pygments_lexer": "ipython3",
   "version": "3.11.5"
  }
 },
 "nbformat": 4,
 "nbformat_minor": 5
}
